{
 "cells": [
  {
   "cell_type": "code",
   "execution_count": 115,
   "metadata": {
    "collapsed": true
   },
   "outputs": [],
   "source": [
    "import sys\n",
    "import time\n",
    "import warnings\n",
    "\n",
    "import numpy as np\n",
    "from numpy.linalg import norm\n",
    "import matplotlib.pyplot as plt\n",
    "\n",
    "from sklearn.model_selection import RepeatedKFold\n",
    "\n",
    "from studies.utils import *\n",
    "from pyROMs.pod import POD\n",
    "\n",
    "warnings.filterwarnings('ignore')"
   ]
  },
  {
   "cell_type": "markdown",
   "source": [
    "Parse the Data"
   ],
   "metadata": {
    "collapsed": false,
    "pycharm": {
     "name": "#%% md\n"
    }
   }
  },
  {
   "cell_type": "code",
   "execution_count": 116,
   "outputs": [
    {
     "name": "stdout",
     "output_type": "stream",
     "text": [
      "Loading and formating the data...\n",
      "Loading the data took 12.430482 s\n"
     ]
    }
   ],
   "source": [
    "problem = 'twigl'\n",
    "case = 1\n",
    "study = 6\n",
    "\n",
    "var = None\n",
    "if problem != 'three_group_sphere':\n",
    "    var = 'power_density'\n",
    "\n",
    "print(\"Loading and formating the data...\")\n",
    "t_start = time.time()\n",
    "if problem == 'infinite_slab':\n",
    "    dataset = get_data(problem, case, study)\n",
    "else:\n",
    "    dataset = get_data(problem, study)\n",
    "X = dataset.create_dataset_matrix(var)\n",
    "Y = dataset.parameters\n",
    "t_end = time.time()\n",
    "print(f\"Loading the data took {t_end - t_start:3f} s\")"
   ],
   "metadata": {
    "collapsed": false,
    "pycharm": {
     "name": "#%%\n"
    }
   }
  },
  {
   "cell_type": "markdown",
   "source": [
    "KFold Cross Validation"
   ],
   "metadata": {
    "collapsed": false,
    "pycharm": {
     "name": "#%% md\n"
    }
   }
  },
  {
   "cell_type": "code",
   "execution_count": 135,
   "outputs": [
    {
     "name": "stdout",
     "output_type": "stream",
     "text": [
      "Starting Repeated K-Fold cross-validation study...\n",
      "\n",
      "Number of POD Modes:\t\t16\n",
      "Number of Snapshots:\t\t58\n",
      "Number of Validations:\t\t6\n",
      "Average Construction Time:\t4.521e-02 s\n",
      "Average Query Time:\t\t1.144e-04 s\n"
     ]
    }
   ],
   "source": [
    "n_splits = 10\n",
    "n_repeats = 500 // n_splits\n",
    "interior_only = False\n",
    "\n",
    "tau = 1.0e-8\n",
    "interp = 'rbf_gaussian'\n",
    "epsilon = 50.0\n",
    "\n",
    "cv = {'mean': [], 'max': [], 'min': [],\n",
    "      'const_time': [], 'query_time': []}\n",
    "\n",
    "# Define the cross validator and iterator\n",
    "print(f\"Starting Repeated K-Fold cross-validation study...\")\n",
    "cross_validator = RepeatedKFold(n_splits=n_splits, n_repeats=n_repeats)\n",
    "if interior_only:\n",
    "    interior = dataset.interior_map\n",
    "    iterator = cross_validator.split(X[interior], Y[interior])\n",
    "else:\n",
    "    iterator = cross_validator.split(X, Y)\n",
    "\n",
    "# Perform the cross-validations\n",
    "for train, test in iterator:\n",
    "    if interior_only:\n",
    "        boundary = dataset.boundary_map\n",
    "        X_train, Y_train = X[interior][train], Y[interior][train]\n",
    "        X_test, Y_test = X[interior][test], Y[interior][test]\n",
    "        X_train = np.vstack((X_train, X[boundary]))\n",
    "        Y_train = np.vstack((Y_train, Y[boundary]))\n",
    "    else:\n",
    "        X_train, Y_train = X[train], Y[train]\n",
    "        X_test, Y_test = X[test], Y[test]\n",
    "\n",
    "    # Construct the ROM\n",
    "    t_start = time.time()\n",
    "    pod = POD(svd_rank=1.0-tau)\n",
    "    pod.fit(X_train, Y_train, interp, epsilon=epsilon)\n",
    "    t_end = time.time()\n",
    "    cv['const_time'].append(t_end - t_start)\n",
    "\n",
    "    # Predict the results\n",
    "    t_start = time.time()\n",
    "    X_pred = pod.predict(Y_test)\n",
    "    t_end = time.time()\n",
    "    cv['query_time'].append((t_end-t_start)/len(test))\n",
    "\n",
    "    # Format datasets and compute errors\n",
    "    X_pred = dataset.unstack_simulation_vector(X_pred)\n",
    "    X_test = dataset.unstack_simulation_vector(X_test)\n",
    "    errors = np.zeros(len(X_test))\n",
    "    for i in range(len(X_test)):\n",
    "        errors[i] = norm(X_test[i]-X_pred[i])/ norm(X_test[i])\n",
    "    cv['mean'].append(np.mean(errors))\n",
    "    cv['min'].append(np.min(errors))\n",
    "    cv['max'].append(np.max(errors))\n",
    "\n",
    "print()\n",
    "print(f\"Number of POD Modes:\\t\\t{pod.n_modes}\")\n",
    "print(f\"Number of Snapshots:\\t\\t{pod.n_snapshots}\")\n",
    "print(f\"Number of Validations:\\t\\t{len(X_test)}\")\n",
    "print(f\"Average Construction Time:\\t{np.mean(cv['const_time']):.3e} s\")\n",
    "print(f\"Average Query Time:\\t\\t{np.mean(cv['query_time']):.3e} s\")"
   ],
   "metadata": {
    "collapsed": false,
    "pycharm": {
     "name": "#%%\n"
    }
   }
  },
  {
   "cell_type": "markdown",
   "source": [
    "Plot the Results"
   ],
   "metadata": {
    "collapsed": false,
    "pycharm": {
     "name": "#%% md\n"
    }
   }
  },
  {
   "cell_type": "code",
   "execution_count": 136,
   "outputs": [
    {
     "data": {
      "text/plain": "<Figure size 576x288 with 2 Axes>",
      "image/png": "[encoded data removed]"
     },
     "metadata": {
      "needs_background": "light"
     },
     "output_type": "display_data"
    }
   ],
   "source": [
    "import seaborn as sb\n",
    "from typing import List\n",
    "from matplotlib.pyplot import Figure, Axes\n",
    "\n",
    "fig, axs = plt.subplots(1, 2, figsize=(8, 4))\n",
    "fig: Figure = fig\n",
    "axs: List[Axes] = axs.ravel()\n",
    "\n",
    "for i, ax in enumerate(axs):\n",
    "    data = cv['mean'] if i == 0 else cv['max']\n",
    "    title = \"Mean Error\" if i == 0 else \"Maximum Error\"\n",
    "    ylabel = \"Probability\" if i == 0 else \"\"\n",
    "    sb.histplot(data, bins=10, stat='probability',\n",
    "                kde=True, log_scale=True, ax=ax)\n",
    "    ax.set_title(title, fontsize=12)\n",
    "    ax.set_xlabel(\"Relative $L^2$ Error\", fontsize=12)\n",
    "    ax.set_ylabel(ylabel, fontsize=12)\n",
    "    ax.grid(True)\n",
    "plt.tight_layout()"
   ],
   "metadata": {
    "collapsed": false,
    "pycharm": {
     "name": "#%%\n"
    }
   }
  },
  {
   "cell_type": "markdown",
   "source": [
    "Write LaTeX Table"
   ],
   "metadata": {
    "collapsed": false,
    "pycharm": {
     "name": "#%% md\n"
    }
   }
  },
  {
   "cell_type": "code",
   "execution_count": 137,
   "outputs": [
    {
     "name": "stdout",
     "output_type": "stream",
     "text": [
      "\\begin{tabular}{|c|c|c|c|}\n",
      "\t\\hline\n",
      "\t\\textbf{Quantity} & \\textbf{Value} \\\\ \\hline\n",
      "\t \\hline Mean of Set Means & 3.823e-03\n",
      "\t \\hline Maximum of Set Means & 2.024e-02\n",
      "\t \\hline Minimum of Set Means & 4.378e-04\n",
      "\t \\hline Maximum of Set Maximums & 5.244e-02\n",
      "\t \\hline Minimum of Set Minimums & 1.044e-04\n",
      "\t \\hline \n",
      " \\end{tabular}\n"
     ]
    }
   ],
   "source": [
    "msg = \"\\\\begin{tabular}{|c|c|c|c|}\" \\\n",
    "      \"\\n\\t\\hline\" \\\n",
    "      \"\\n\\t\\\\textbf{Quantity} & \\\\textbf{Value} \\\\\\\\ \\hline\"\n",
    "msg += f\"\\n\\t \\hline Mean of Set Means & {np.mean(cv['mean']):.3e}\"\n",
    "msg += f\"\\n\\t \\hline Maximum of Set Means & {np.max(cv['mean']):.3e}\"\n",
    "msg += f\"\\n\\t \\hline Minimum of Set Means & {np.min(cv['mean']):.3e}\"\n",
    "msg += f\"\\n\\t \\hline Maximum of Set Maximums & {np.max(cv['max']):.3e}\"\n",
    "msg += f\"\\n\\t \\hline Minimum of Set Minimums & {np.min(cv['min']):.3e}\"\n",
    "msg += f\"\\n\\t \\hline \\n \\end{{tabular}}\"\n",
    "print(msg)"
   ],
   "metadata": {
    "collapsed": false,
    "pycharm": {
     "name": "#%%\n"
    }
   }
  },
  {
   "cell_type": "code",
   "execution_count": 137,
   "outputs": [],
   "source": [],
   "metadata": {
    "collapsed": false,
    "pycharm": {
     "name": "#%%\n"
    }
   }
  }
 ],
 "metadata": {
  "kernelspec": {
   "display_name": "Python 3",
   "language": "python",
   "name": "python3"
  },
  "language_info": {
   "codemirror_mode": {
    "name": "ipython",
    "version": 2
   },
   "file_extension": ".py",
   "mimetype": "text/x-python",
   "name": "python",
   "nbconvert_exporter": "python",
   "pygments_lexer": "ipython2",
   "version": "2.7.6"
  }
 },
 "nbformat": 4,
 "nbformat_minor": 0
}