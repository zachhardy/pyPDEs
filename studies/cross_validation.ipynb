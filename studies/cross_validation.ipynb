{
 "cells": [
  {
   "cell_type": "code",
   "execution_count": 21,
   "metadata": {
    "collapsed": true
   },
   "outputs": [],
   "source": [
    "import sys\n",
    "import time\n",
    "import warnings\n",
    "\n",
    "import numpy as np\n",
    "from numpy.linalg import norm\n",
    "import matplotlib.pyplot as plt\n",
    "\n",
    "warnings.filterwarnings('ignore')"
   ]
  },
  {
   "cell_type": "markdown",
   "source": [
    "Parse the Data"
   ],
   "metadata": {
    "collapsed": false
   }
  },
  {
   "cell_type": "code",
   "execution_count": 22,
   "outputs": [
    {
     "name": "stdout",
     "output_type": "stream",
     "text": [
      "Loading and formating the data...\n",
      "Loading the data took 109.229371 s\n"
     ]
    }
   ],
   "source": [
    "from utils import *\n",
    "\n",
    "problem = 'lra'\n",
    "case = 1\n",
    "study = 6\n",
    "\n",
    "print(\"Loading and formating the data...\")\n",
    "t_start = time.time()\n",
    "if problem == 'infinite_slab':\n",
    "    dataset = get_data(problem, case, study)\n",
    "else:\n",
    "    dataset = get_data(problem, study)\n",
    "t_end = time.time()\n",
    "print(f\"Loading the data took {t_end - t_start:3f} s\")"
   ],
   "metadata": {
    "collapsed": false,
    "pycharm": {
     "name": "#%%\n"
    }
   }
  },
  {
   "cell_type": "markdown",
   "source": [
    "KFold Cross Validation"
   ],
   "metadata": {
    "collapsed": false,
    "pycharm": {
     "name": "#%% md\n"
    }
   }
  },
  {
   "cell_type": "code",
   "execution_count": 42,
   "outputs": [
    {
     "name": "stdout",
     "output_type": "stream",
     "text": [
      "Starting Repeated K-Fold cross-validation study...\n",
      "\n",
      "Number of POD Modes:\t\t38\n",
      "Number of Snapshots:\t\t52\n",
      "Number of Validations:\t\t12\n",
      "Average Construction Time:\t2.067e-01 s\n",
      "Average Query Time:\t\t3.919e-04 s\n"
     ]
    }
   ],
   "source": [
    "from sklearn.model_selection import RepeatedKFold\n",
    "from pyROMs.pod import POD\n",
    "\n",
    "n_splits = 5\n",
    "n_repeats = 500 // n_splits\n",
    "interior_only = False\n",
    "\n",
    "var = None\n",
    "if problem != 'three_group_sphere':\n",
    "    var = 'power_density'\n",
    "\n",
    "X = dataset.create_dataset_matrix(var)\n",
    "Y = dataset.parameters\n",
    "\n",
    "tau = 1.0e-8 if problem != 'lra' else 1.0e-10\n",
    "if problem == 'three_group_sphere':\n",
    "    interp = 'rbf_gaussian' if study == 0 else 'rbf'\n",
    "    epsilon = 5.0 if study == 0 else 200.0\n",
    "elif problem == 'infinite_slab':\n",
    "    interp = 'rbf_gaussian'\n",
    "    epsilon = 10.0\n",
    "elif problem == 'twigl':\n",
    "    interp = 'rbf_gaussian'\n",
    "    epsilon = 20.0\n",
    "else:\n",
    "    interp = 'rbf_gaussian'\n",
    "    epsilon = 200.0\n",
    "\n",
    "cv = {'mean': [], 'max': [], 'min': [],\n",
    "      'const_time': [], 'query_time': []}\n",
    "\n",
    "peak = {'mean': [], 'max': [], 'min': []}\n",
    "\n",
    "# Define the cross validator and iterator\n",
    "print(f\"Starting Repeated K-Fold cross-validation study...\")\n",
    "cross_validator = RepeatedKFold(n_splits=n_splits, n_repeats=n_repeats)\n",
    "if interior_only:\n",
    "    interior = dataset.interior_map\n",
    "    iterator = cross_validator.split(X[interior], Y[interior])\n",
    "else:\n",
    "    iterator = cross_validator.split(X, Y)\n",
    "\n",
    "# Perform the cross-validations\n",
    "for train, test in iterator:\n",
    "    if interior_only:\n",
    "        boundary = dataset.boundary_map\n",
    "        X_train, Y_train = X[interior][train], Y[interior][train]\n",
    "        X_test, Y_test = X[interior][test], Y[interior][test]\n",
    "        X_train = np.vstack((X_train, X[boundary]))\n",
    "        Y_train = np.vstack((Y_train, Y[boundary]))\n",
    "    else:\n",
    "        X_train, Y_train = X[train], Y[train]\n",
    "        X_test, Y_test = X[test], Y[test]\n",
    "\n",
    "    # Construct the ROM\n",
    "    t_start = time.time()\n",
    "    pod = POD(svd_rank=1.0-tau)\n",
    "    pod.fit(X_train, Y_train, interp, epsilon=epsilon)\n",
    "    t_end = time.time()\n",
    "    cv['const_time'].append(t_end - t_start)\n",
    "\n",
    "    # Predict the results\n",
    "    t_start = time.time()\n",
    "    X_pred = pod.predict(Y_test)\n",
    "    t_end = time.time()\n",
    "    cv['query_time'].append((t_end-t_start)/len(test))\n",
    "\n",
    "    # Format datasets and compute errors\n",
    "    X_pred = dataset.unstack_simulation_vector(X_pred)\n",
    "    X_test = dataset.unstack_simulation_vector(X_test)\n",
    "    errors = np.zeros(len(X_test))\n",
    "    for i in range(len(X_test)):\n",
    "        errors[i] = norm(X_test[i]-X_pred[i])/ norm(X_test[i])\n",
    "    cv['mean'].append(np.mean(errors))\n",
    "    cv['min'].append(np.min(errors))\n",
    "    cv['max'].append(np.max(errors))\n",
    "\n",
    "    peak_errors = np.zeros(len(X_test))\n",
    "    for i in range(len(X_test)):\n",
    "        argmax = np.argmax(np.sum(X_test[i], axis=1))\n",
    "        peak_errors[i] = norm(X_test[i][argmax]-X_pred[i][argmax])\n",
    "        peak_errors[i] /= norm(X_test[i][argmax])\n",
    "    peak['mean'].append(np.mean(peak_errors))\n",
    "    peak['max'].append(np.max(peak_errors))\n",
    "    peak['min'].append(np.min(peak_errors))\n",
    "\n",
    "print()\n",
    "print(f\"Number of POD Modes:\\t\\t{pod.n_modes}\")\n",
    "print(f\"Number of Snapshots:\\t\\t{pod.n_snapshots}\")\n",
    "print(f\"Number of Validations:\\t\\t{len(X_test)}\")\n",
    "print(f\"Average Construction Time:\\t{np.mean(cv['const_time']):.3e} s\")\n",
    "print(f\"Average Query Time:\\t\\t{np.mean(cv['query_time']):.3e} s\")"
   ],
   "metadata": {
    "collapsed": false,
    "pycharm": {
     "name": "#%%\n"
    }
   }
  },
  {
   "cell_type": "markdown",
   "source": [
    "Plot the Results"
   ],
   "metadata": {
    "collapsed": false,
    "pycharm": {
     "name": "#%% md\n"
    }
   }
  },
  {
   "cell_type": "code",
   "execution_count": 46,
   "outputs": [
    {
     "data": {
      "text/plain": "<Figure size 576x288 with 2 Axes>",
      "image/png": "[encoded data removed]"
     },
     "metadata": {
      "needs_background": "light"
     },
     "output_type": "display_data"
    },
    {
     "data": {
      "text/plain": "<Figure size 576x288 with 2 Axes>",
      "image/png": "[encoded data removed]"
     },
     "metadata": {
      "needs_background": "light"
     },
     "output_type": "display_data"
    }
   ],
   "source": [
    "base = \"/Users/zacharyhardy/Documents/phd/dissertation/dissertation/figures/\"\n",
    "if problem == 'three_group_sphere':\n",
    "    base += \"chapter6/\"\n",
    "elif problem == 'infinite_slab':\n",
    "    base += \"chapter7/\"\n",
    "elif problem == 'twigl':\n",
    "    base += \"chapter8/\"\n",
    "else:\n",
    "    base += \"chapter9/\"\n",
    "\n",
    "import seaborn as sb\n",
    "from typing import List\n",
    "from matplotlib.pyplot import Figure, Axes\n",
    "\n",
    "fig, axs = plt.subplots(1, 2, figsize=(8, 4))\n",
    "fig: Figure = fig\n",
    "axs: List[Axes] = axs.ravel()\n",
    "\n",
    "for i, ax in enumerate(axs):\n",
    "    data = cv['mean'] if i == 0 else cv['max']\n",
    "    xlabel = \"Mean \" if i == 0 else \"Maximum \"\n",
    "    ylabel = \"Probability\" if i == 0 else \"\"\n",
    "    sb.histplot(data, bins=20, stat='probability',\n",
    "                kde=True, log_scale=True, ax=ax)\n",
    "    ax.set_xlabel(xlabel + \"Relative $L^2$ Error\", fontsize=12)\n",
    "    ax.set_ylabel(ylabel, fontsize=12)\n",
    "    ax.grid(True)\n",
    "plt.tight_layout()\n",
    "\n",
    "if problem == 'three_group_sphere':\n",
    "    base += \"radius/\" if study == 0 else \"results_3d\"\n",
    "    if study == 3:\n",
    "        base += \"/\" if var is None else \"_power/\"\n",
    "\n",
    "filename = base + \"error_distribution\"\n",
    "if interior_only:\n",
    "    filename += \"_interior\"\n",
    "plt.savefig(filename + \".pdf\")\n",
    "\n",
    "fig, axs = plt.subplots(1, 2, figsize=(8, 4))\n",
    "fig: Figure = fig\n",
    "axs: List[Axes] = axs.ravel()\n",
    "\n",
    "for i, ax in enumerate(axs):\n",
    "    data = peak['mean'] if i == 0 else peak['max']\n",
    "    xlabel = \"Mean \" if i == 0 else \"Maximum \"\n",
    "    ylabel = \"Probability\" if i == 0 else \"\"\n",
    "    sb.histplot(data, bins=20, stat='probability',\n",
    "                kde=True, log_scale=True, ax=ax)\n",
    "    ax.set_xlabel(xlabel + \"Relative $L^2$ Error\", fontsize=12)\n",
    "    ax.set_ylabel(ylabel, fontsize=12)\n",
    "    ax.grid(True)\n",
    "plt.tight_layout()\n",
    "\n",
    "filename = base + \"peak_error_distribution\"\n",
    "if interior_only:\n",
    "    filename += \"_interior\"\n",
    "plt.savefig(filename + \".pdf\")"
   ],
   "metadata": {
    "collapsed": false,
    "pycharm": {
     "name": "#%%\n"
    }
   }
  },
  {
   "cell_type": "markdown",
   "source": [
    "Write LaTeX Table"
   ],
   "metadata": {
    "collapsed": false,
    "pycharm": {
     "name": "#%% md\n"
    }
   }
  },
  {
   "cell_type": "code",
   "execution_count": 44,
   "outputs": [
    {
     "name": "stdout",
     "output_type": "stream",
     "text": [
      "\\begin{tabular}{|c|c|}\n",
      "\t\\hline\n",
      "\t\\textbf{Quantity} & \\textbf{Value} \\\\ \\hline\n",
      "\t \\hline Mean of Set Means & 1.394e-02 \\\\\n",
      "\t \\hline Maximum of Set Means & 2.356e-01 \\\\\n",
      "\t \\hline Minimum of Set Means & 3.121e-03 \\\\\n",
      "\t \\hline Mean of Set Maximums & 4.966e-02 \\\\\n",
      "\t \\hline Maximum of Set Maximums & 7.415e-01 \\\\\n",
      "\t \\hline Mean of Set Minimums & 1.541e-03 \\\\\n",
      "\t \\hline Minimum of Set Minimums & 1.759e-04 \\\\\n",
      "\t \\hline \n",
      " \\end{tabular}\n"
     ]
    }
   ],
   "source": [
    "msg = \"\\\\begin{tabular}{|c|c|}\" \\\n",
    "      \"\\n\\t\\hline\" \\\n",
    "      \"\\n\\t\\\\textbf{Quantity} & \\\\textbf{Value} \\\\\\\\ \\hline\"\n",
    "msg += f\"\\n\\t \\hline Mean of Set Means & {np.mean(cv['mean']):.3e} \\\\\\\\\"\n",
    "msg += f\"\\n\\t \\hline Maximum of Set Means & {np.max(cv['mean']):.3e} \\\\\\\\\"\n",
    "msg += f\"\\n\\t \\hline Minimum of Set Means & {np.min(cv['mean']):.3e} \\\\\\\\\"\n",
    "msg += f\"\\n\\t \\hline Mean of Set Maximums & {np.mean(cv['max']):.3e} \\\\\\\\\"\n",
    "msg += f\"\\n\\t \\hline Maximum of Set Maximums & {np.max(cv['max']):.3e} \\\\\\\\\"\n",
    "msg += f\"\\n\\t \\hline Mean of Set Minimums & {np.mean(cv['min']):.3e} \\\\\\\\\"\n",
    "msg += f\"\\n\\t \\hline Minimum of Set Minimums & {np.min(cv['min']):.3e} \\\\\\\\\"\n",
    "msg += f\"\\n\\t \\hline \\n \\end{{tabular}}\"\n",
    "print(msg)\n"
   ],
   "metadata": {
    "collapsed": false,
    "pycharm": {
     "name": "#%%\n"
    }
   }
  }
 ],
 "metadata": {
  "kernelspec": {
   "display_name": "Python 3",
   "language": "python",
   "name": "python3"
  },
  "language_info": {
   "codemirror_mode": {
    "name": "ipython",
    "version": 2
   },
   "file_extension": ".py",
   "mimetype": "text/x-python",
   "name": "python",
   "nbconvert_exporter": "python",
   "pygments_lexer": "ipython2",
   "version": "2.7.6"
  }
 },
 "nbformat": 4,
 "nbformat_minor": 0
}