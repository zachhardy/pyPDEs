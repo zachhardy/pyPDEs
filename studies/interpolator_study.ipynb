{
 "cells": [
  {
   "cell_type": "code",
   "execution_count": 1,
   "metadata": {
    "collapsed": true
   },
   "outputs": [],
   "source": [
    "import time\n",
    "import warnings\n",
    "\n",
    "import numpy as np\n",
    "from numpy.linalg import norm\n",
    "\n",
    "from pyROMs.pod import POD\n",
    "\n",
    "from utils import *\n",
    "\n",
    "warnings.filterwarnings('ignore')"
   ]
  },
  {
   "cell_type": "markdown",
   "source": [
    "Define Routines"
   ],
   "metadata": {
    "collapsed": false
   }
  },
  {
   "cell_type": "code",
   "execution_count": 5,
   "outputs": [],
   "source": [
    "def interpolant_study(dataset, params,\n",
    "                      test_size, seed, interior_only):\n",
    "    \"\"\"Perform a mode truncation study.\"\"\"\n",
    "    vars = params[\"vars\"]\n",
    "    tau = params[\"tau\"]\n",
    "    interp = params[\"interp\"]\n",
    "    epsilon = params[\"epsilon\"]\n",
    "\n",
    "    # Setup storage\n",
    "    out = {'interpolant': [],\n",
    "           'mean': [], 'max': [], 'min': []}\n",
    "\n",
    "    # Setup POD model\n",
    "    pod = POD(svd_rank=0,\n",
    "              method=interp,\n",
    "              epsilon=epsilon)\n",
    "\n",
    "    # Setup training/validation sets\n",
    "    splits = dataset.train_test_split(\n",
    "        variables=vars, test_size=test_size,\n",
    "        seed=seed, interior_only=interior_only)\n",
    "    X_train, X_test, Y_train, Y_test = splits\n",
    "\n",
    "    # Define interpolants\n",
    "    interpolants = [\n",
    "        'rbf_linear', 'rbf_thin_plate_spline',\n",
    "        'rbf_cubic', 'rbf_quintic', 'rbf_gaussian',\n",
    "        'linear', 'nearest'\n",
    "    ]\n",
    "\n",
    "    # Run study\n",
    "    print(f\"Starting the interpolation study...\")\n",
    "    for interpolant in interpolants:\n",
    "\n",
    "        # Construct POD model, predict test data\n",
    "        pod.fit(X_train, Y_train, method=interpolant)\n",
    "        X_pod = pod.predict(Y_test)\n",
    "\n",
    "        # Format datasets\n",
    "        X_pod = dataset.unstack_simulation_vector(X_pod)\n",
    "        X_test = dataset.unstack_simulation_vector(X_test)\n",
    "\n",
    "        # Compute simulation errors\n",
    "        errors = np.zeros(len(X_test))\n",
    "        for i in range(len(X_test)):\n",
    "            errors[i] = norm(X_test[i]-X_pod[i])/norm(X_test[i])\n",
    "\n",
    "        # Store results\n",
    "        out['interpolant'].append(interpolant)\n",
    "        out['mean'].append(np.mean(errors))\n",
    "        out['max'].append(np.max(errors))\n",
    "        out['min'].append(np.min(errors))\n",
    "    print(f\"Number of Snapshots:\\t{pod.n_snapshots}\")\n",
    "    print(f\"Number of Validations:\\t{len(X_test)}\")\n",
    "    print(f\"Number of POD Modes:\\t{pod.n_modes}\")\n",
    "    return out\n",
    "\n",
    "\n",
    "def print_table(results):\n",
    "    \"\"\"Print a LaTeX table with the results.\"\"\"\n",
    "    msg = \"\\\\begin{tabular}{|c|c|c|c|}\" \\\n",
    "      \"\\n\\t\\hline\" \\\n",
    "      \"\\n\\t\\\\textbf{Interpolation Method} & \\\\textbf{Mean Error} & \" \\\n",
    "      \"\\\\textbf{Max Error} & \\\\textbf{Min Error} \\\\\\\\ \\hline\"\n",
    "    for i, interpolant in enumerate(results['interpolant']):\n",
    "        interpolant = interpolant.split('_')\n",
    "        if interpolant[0] == 'rbf':\n",
    "            interpolant[0] = interpolant[0].upper()\n",
    "            for w in range(len(interpolant[1:])):\n",
    "                interpolant[w+1] = interpolant[w+1].capitalize()\n",
    "            interpolant = \" \".join(interpolant[1:]) + \" RBF\"\n",
    "            if \"Gaussian\" in interpolant:\n",
    "                epsilon = get_params(problem_name)[\"epsilon\"]\n",
    "                interpolant += f\", $\\\\epsilon$ = {epsilon:.2e}\"\n",
    "        else:\n",
    "            interpolant = interpolant[0].capitalize()\n",
    "            if interpolant == \"Nearest\":\n",
    "                interpolant += \" Neighbor\"\n",
    "            elif interpolant == \"Cubic\":\n",
    "                interpolant += \" Spline\"\n",
    "\n",
    "        msg += f\"\\n\\t\\hline {interpolant} & \" \\\n",
    "               f\"{results['mean'][i]:.3e} & \" \\\n",
    "               f\"{results['max'][i]:.3e} & \" \\\n",
    "               f\"{results['min'][i]:.3e} \\\\\\\\\"\n",
    "    msg += \"\\n\\t\\hline\\n\\\\end{tabular}\"\n",
    "    print()\n",
    "    print(msg)"
   ],
   "metadata": {
    "collapsed": false,
    "pycharm": {
     "name": "#%%\n"
    }
   }
  },
  {
   "cell_type": "markdown",
   "source": [
    "Parse the Data"
   ],
   "metadata": {
    "collapsed": false
   }
  },
  {
   "cell_type": "code",
   "execution_count": 3,
   "outputs": [
    {
     "name": "stdout",
     "output_type": "stream",
     "text": [
      "Loading and formating the data...\n",
      "Loading the data took 12.885374 s\n"
     ]
    }
   ],
   "source": [
    "problem_name = input(\"What problem? \")\n",
    "\n",
    "print(\"Loading and formating the data...\")\n",
    "t_start = time.time()\n",
    "dataset = get_data(problem_name)\n",
    "t_end = time.time()\n",
    "print(f\"Loading the data took {t_end - t_start:3f} s\")"
   ],
   "metadata": {
    "collapsed": false,
    "pycharm": {
     "name": "#%%\n"
    }
   }
  },
  {
   "cell_type": "markdown",
   "source": [
    "Perform the Interpolation Study"
   ],
   "metadata": {
    "collapsed": false
   }
  },
  {
   "cell_type": "code",
   "execution_count": 9,
   "outputs": [
    {
     "name": "stdout",
     "output_type": "stream",
     "text": [
      "Starting the interpolation study...\n",
      "Number of Snapshots:\t57\n",
      "Number of Validations:\t7\n",
      "Number of POD Modes:\t27\n",
      "\n",
      "\\begin{tabular}{|c|c|c|c|}\n",
      "\t\\hline\n",
      "\t\\textbf{Interpolation Method} & \\textbf{Mean Error} & \\textbf{Max Error} & \\textbf{Min Error} \\\\ \\hline\n",
      "\t\\hline Linear RBF & 1.990e-02 & 3.059e-02 & 8.016e-03 \\\\\n",
      "\t\\hline Thin Plate Spline RBF & 6.799e-03 & 8.917e-03 & 4.455e-03 \\\\\n",
      "\t\\hline Cubic RBF & 1.248e-02 & 1.816e-02 & 8.392e-03 \\\\\n",
      "\t\\hline Quintic RBF & 1.274e-02 & 1.925e-02 & 3.534e-03 \\\\\n",
      "\t\\hline Gaussian RBF, $\\epsilon$ = 2.00e+01 & 6.224e-04 & 9.395e-04 & 2.524e-04 \\\\\n",
      "\t\\hline Linear & 1.942e-02 & 4.451e-02 & 6.596e-03 \\\\\n",
      "\t\\hline Nearest Neighbor & 6.563e-02 & 1.536e-01 & 2.955e-02 \\\\\n",
      "\t\\hline\n",
      "\\end{tabular}\n"
     ]
    }
   ],
   "source": [
    "params = get_params(problem_name)\n",
    "\n",
    "test_size = 0.8\n",
    "interior_only = True\n",
    "seed = 12\n",
    "\n",
    "results = interpolant_study(\n",
    "    dataset, params, test_size, seed, interior_only)\n",
    "print_table(results)\n",
    "\n"
   ],
   "metadata": {
    "collapsed": false,
    "pycharm": {
     "name": "#%%\n"
    }
   }
  }
 ],
 "metadata": {
  "kernelspec": {
   "display_name": "Python 3",
   "language": "python",
   "name": "python3"
  },
  "language_info": {
   "codemirror_mode": {
    "name": "ipython",
    "version": 2
   },
   "file_extension": ".py",
   "mimetype": "text/x-python",
   "name": "python",
   "nbconvert_exporter": "python",
   "pygments_lexer": "ipython2",
   "version": "2.7.6"
  }
 },
 "nbformat": 4,
 "nbformat_minor": 0
}