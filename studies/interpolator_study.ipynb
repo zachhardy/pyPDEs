{
 "cells": [
  {
   "cell_type": "code",
   "execution_count": 13,
   "metadata": {
    "collapsed": true
   },
   "outputs": [],
   "source": [
    "import sys\n",
    "import time\n",
    "import warnings\n",
    "import numpy as np\n",
    "from numpy.linalg import norm\n",
    "\n",
    "from studies.utils import *\n",
    "from pyROMs.pod import POD\n",
    "\n",
    "warnings.filterwarnings('ignore')"
   ]
  },
  {
   "cell_type": "markdown",
   "source": [
    "Parse the Data"
   ],
   "metadata": {
    "collapsed": false,
    "pycharm": {
     "name": "#%% md\n"
    }
   }
  },
  {
   "cell_type": "code",
   "execution_count": 15,
   "outputs": [
    {
     "name": "stdout",
     "output_type": "stream",
     "text": [
      "Loading and formating the data...\n",
      "Loading the data took 13.332585 s\n"
     ]
    }
   ],
   "source": [
    "print(\"Loading and formating the data...\")\n",
    "t_start = time.time()\n",
    "if problem == 'infinite_slab':\n",
    "    dataset = get_data(problem, case, study)\n",
    "else:\n",
    "    dataset = get_data(problem, study)\n",
    "t_end = time.time()\n",
    "print(f\"Loading the data took {t_end - t_start:3f} s\")"
   ],
   "metadata": {
    "collapsed": false,
    "pycharm": {
     "name": "#%%\n"
    }
   }
  },
  {
   "cell_type": "markdown",
   "source": [
    "Parameter Definitions"
   ],
   "metadata": {
    "collapsed": false
   }
  },
  {
   "cell_type": "code",
   "execution_count": 19,
   "outputs": [],
   "source": [
    "problem = 'three_group_sphere'\n",
    "case = 0\n",
    "study = 3\n",
    "\n",
    "var = None\n",
    "if problem != 'three_group_sphere':\n",
    "    var = 'power_density'\n",
    "\n",
    "test_size = 0.2\n",
    "interior_only = False\n",
    "seed = 12\n",
    "\n",
    "tau = 1.0e-8\n",
    "epsilon = 200.0"
   ],
   "metadata": {
    "collapsed": false,
    "pycharm": {
     "name": "#%%\n"
    }
   }
  },
  {
   "cell_type": "markdown",
   "source": [
    "Split the Data"
   ],
   "metadata": {
    "collapsed": false,
    "pycharm": {
     "name": "#%% md\n"
    }
   }
  },
  {
   "cell_type": "code",
   "execution_count": 16,
   "outputs": [],
   "source": [
    "splits = dataset.train_test_split(variables=var,\n",
    "                                  test_size=test_size, seed=seed,\n",
    "                                  interior_only=interior_only)\n",
    "X_train, X_test, Y_train, Y_test = splits"
   ],
   "metadata": {
    "collapsed": false,
    "pycharm": {
     "name": "#%%\n"
    }
   }
  },
  {
   "cell_type": "markdown",
   "source": [
    "Perform the Interpolation Study"
   ],
   "metadata": {
    "collapsed": false,
    "pycharm": {
     "name": "#%% md\n"
    }
   }
  },
  {
   "cell_type": "code",
   "execution_count": 17,
   "outputs": [
    {
     "name": "stdout",
     "output_type": "stream",
     "text": [
      "Starting the interpolation study...\n",
      "Finished interplant study in 0.501 s.\n",
      "Number of Snapshots:\t100\n",
      "Number of Validations:\t25\n",
      "Number of POD Modes:\t48\n"
     ]
    }
   ],
   "source": [
    "print(f\"Starting the interpolation study...\")\n",
    "\n",
    "# Define the different interpolants\n",
    "interps = ['rbf_linear', 'rbf_thin_plate_spline',\n",
    "           'rbf_cubic', 'rbf_quintic', 'rbf_gaussian',\n",
    "           'linear', 'nearest']\n",
    "\n",
    "# Loop over interpolants\n",
    "t_start = time.time()\n",
    "errors = {'mean': [], 'max': [], 'min': []}\n",
    "for interp in interps:\n",
    "\n",
    "    # Construct POD model, predict test data\n",
    "    pod = POD(svd_rank=0)\n",
    "    pod.fit(X_train, Y_train, interp, epsilon=epsilon)\n",
    "\n",
    "    # Predict results\n",
    "    X_pred = pod.predict(Y_test)\n",
    "\n",
    "    # Format datasets, compute errors\n",
    "    X_pred = dataset.unstack_simulation_vector(X_pred)\n",
    "    X_test = dataset.unstack_simulation_vector(X_test)\n",
    "    error_i = np.zeros(len(X_test))\n",
    "    for i in range(len(X_test)):\n",
    "        error_i[i] = norm(X_test[i]-X_pred[i])/norm(X_test[i])\n",
    "    errors['mean'].append(np.mean(error_i))\n",
    "    errors['max'].append(np.max(error_i))\n",
    "    errors['min'].append(np.min(error_i))\n",
    "t_end = time.time()\n",
    "print(f\"Finished interplant study in {t_end-t_start:.3f} s.\")\n",
    "print(f\"Number of Snapshots:\\t{pod.n_snapshots}\")\n",
    "print(f\"Number of Validations:\\t{len(X_test)}\")\n",
    "print(f\"Number of POD Modes:\\t{pod.n_modes}\")"
   ],
   "metadata": {
    "collapsed": false,
    "pycharm": {
     "name": "#%%\n"
    }
   }
  },
  {
   "cell_type": "markdown",
   "source": [
    "Prin LaTeX Table"
   ],
   "metadata": {
    "collapsed": false,
    "pycharm": {
     "name": "#%% md\n"
    }
   }
  },
  {
   "cell_type": "code",
   "execution_count": 18,
   "outputs": [
    {
     "name": "stdout",
     "output_type": "stream",
     "text": [
      "\\begin{tabular}{|c|c|c|c|}\n",
      "\t\\hline\n",
      "\t\\textbf{Interpolation Method} & \\textbf{Mean Error} & \\textbf{Max Error} & \\textbf{Min Error} \\\\ \\hline\n",
      "\t\\hline Linear RBF & 3.196e-02 & 1.238e-01 & 5.747e-04 \\\\\n",
      "\t\\hline Thin Plate Spline RBF & 3.077e-03 & 1.059e-02 & 1.365e-04 \\\\\n",
      "\t\\hline Cubic RBF & 2.972e-03 & 1.640e-02 & 1.588e-04 \\\\\n",
      "\t\\hline Quintic RBF & 1.650e-03 & 5.377e-03 & 2.846e-04 \\\\\n",
      "\t\\hline Gaussian RBF, $\\epsilon$ = 2.00e+02 & 2.612e-03 & 1.289e-02 & 3.005e-06 \\\\\n",
      "\t\\hline Linear & nan & nan & nan \\\\\n",
      "\t\\hline Nearest Neighbor & 1.581e-01 & 2.465e-01 & 3.531e-02 \\\\\n",
      "\t\\hline\n",
      "\\end{tabular}\n"
     ]
    }
   ],
   "source": [
    "msg = \"\\\\begin{tabular}{|c|c|c|c|}\" \\\n",
    "      \"\\n\\t\\hline\" \\\n",
    "      \"\\n\\t\\\\textbf{Interpolation Method} & \\\\textbf{Mean Error} & \" \\\n",
    "      \"\\\\textbf{Max Error} & \\\\textbf{Min Error} \\\\\\\\ \\hline\"\n",
    "for i in range(len(interps)):\n",
    "    interp = interps[i].split('_')\n",
    "    if interp[0] == 'rbf':\n",
    "        interp[0] = interp[0].upper()\n",
    "        for w in range(len(interp[1:])):\n",
    "            interp[w+1] = interp[w+1].capitalize()\n",
    "        interp = \" \".join(interp[1:]) + \" RBF\"\n",
    "        if \"Gaussian\" in interp:\n",
    "            interp += f\", $\\\\epsilon$ = {epsilon:.2e}\"\n",
    "    else:\n",
    "        interp = interp[0].capitalize()\n",
    "        if interp == \"Nearest\":\n",
    "            interp += \" Neighbor\"\n",
    "        elif interp == \"Cubic\":\n",
    "            interp += \" Spline\"\n",
    "\n",
    "    msg += f\"\\n\\t\\hline {interp} & \" \\\n",
    "           f\"{errors['mean'][i]:.3e} & \" \\\n",
    "           f\"{errors['max'][i]:.3e} & \" \\\n",
    "           f\"{errors['min'][i]:.3e} \\\\\\\\\"\n",
    "msg += \"\\n\\t\\hline\\n\\\\end{tabular}\"\n",
    "print(msg)"
   ],
   "metadata": {
    "collapsed": false,
    "pycharm": {
     "name": "#%%\n"
    }
   }
  }
 ],
 "metadata": {
  "kernelspec": {
   "display_name": "Python 3",
   "language": "python",
   "name": "python3"
  },
  "language_info": {
   "codemirror_mode": {
    "name": "ipython",
    "version": 2
   },
   "file_extension": ".py",
   "mimetype": "text/x-python",
   "name": "python",
   "nbconvert_exporter": "python",
   "pygments_lexer": "ipython2",
   "version": "2.7.6"
  }
 },
 "nbformat": 4,
 "nbformat_minor": 0
}