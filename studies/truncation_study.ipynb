{
 "cells": [
  {
   "cell_type": "code",
   "execution_count": 1,
   "metadata": {
    "collapsed": true
   },
   "outputs": [],
   "source": [
    "import os\n",
    "import sys\n",
    "import time\n",
    "import warnings\n",
    "\n",
    "import numpy as np\n",
    "from numpy.linalg import norm\n",
    "import matplotlib.pyplot as plt\n",
    "\n",
    "warnings.filterwarnings('ignore')"
   ]
  },
  {
   "cell_type": "markdown",
   "source": [
    "Parse the Data"
   ],
   "metadata": {
    "collapsed": false,
    "pycharm": {
     "name": "#%% md\n"
    }
   }
  },
  {
   "cell_type": "code",
   "execution_count": 2,
   "outputs": [
    {
     "name": "stdout",
     "output_type": "stream",
     "text": [
      "Loading and formating the data...\n",
      "Loading the data took 110.075765 s\n"
     ]
    }
   ],
   "source": [
    "from utils import *\n",
    "\n",
    "problem = 'lra'\n",
    "case = 1\n",
    "study = 6\n",
    "\n",
    "var = None\n",
    "if problem != 'three_group_sphere':\n",
    "    var = 'power_density'\n",
    "\n",
    "print(\"Loading and formating the data...\")\n",
    "t_start = time.time()\n",
    "if problem == 'infinite_slab':\n",
    "    dataset = get_data(problem, case, study)\n",
    "else:\n",
    "    dataset = get_data(problem, study)\n",
    "t_end = time.time()\n",
    "print(f\"Loading the data took {t_end - t_start:3f} s\")"
   ],
   "metadata": {
    "collapsed": false,
    "pycharm": {
     "name": "#%%\n"
    }
   }
  },
  {
   "cell_type": "markdown",
   "source": [
    "Setup the Truncation Study"
   ],
   "metadata": {
    "collapsed": false,
    "pycharm": {
     "name": "#%% md\n"
    }
   }
  },
  {
   "cell_type": "code",
   "execution_count": 5,
   "outputs": [],
   "source": [
    "from pyROMs.pod import POD\n",
    "\n",
    "test_size = 0.2\n",
    "seed = 12\n",
    "interior_only = False\n",
    "\n",
    "\n",
    "if problem == 'three_group_sphere':\n",
    "    interp = 'rbf_gaussian' if study == 0 else 'rbf_cubic'\n",
    "    epsilon = 5.0 if study == 0 else 200.0\n",
    "elif problem == 'infinite_slab':\n",
    "    interp = 'rbf_gaussian'\n",
    "    epsilon = 10.0\n",
    "elif problem == 'twigl':\n",
    "    interp = 'rbf_gaussian'\n",
    "    epsilon = 20.0\n",
    "else:\n",
    "    interp = 'rbf_gaussian'\n",
    "    epsilon = 100.0\n",
    "\n",
    "splits = dataset.train_test_split(variables=var,\n",
    "                                  test_size=test_size, seed=seed,\n",
    "                                  interior_only=interior_only)\n",
    "X_train, X_test, Y_train, Y_test = splits"
   ],
   "metadata": {
    "collapsed": false,
    "pycharm": {
     "name": "#%%\n"
    }
   }
  },
  {
   "cell_type": "markdown",
   "source": [
    "Perform the Truncation Study"
   ],
   "metadata": {
    "collapsed": false
   }
  },
  {
   "cell_type": "code",
   "execution_count": 10,
   "outputs": [],
   "source": [
    "info = {'tau': [], 'n_modes': [],\n",
    "        'mean_error': [], 'max_error': [],\n",
    "        'min_error': [], 'query_time': []}\n",
    "\n",
    "taus = [10.0**i for i in range(-16, 0)]\n",
    "for tau in taus:\n",
    "\n",
    "    # Construct POD model, predict test data\n",
    "    start_time = time.time()\n",
    "    pod = POD(svd_rank=1.0 - tau)\n",
    "    pod.fit(X_train, Y_train, interp, epsilon=epsilon)\n",
    "    contruction_time = time.time() - start_time\n",
    "\n",
    "    t_start = time.time()\n",
    "    X_pred = pod.predict(Y_test)\n",
    "    t_end = time.time()\n",
    "\n",
    "    # Format datasets\n",
    "    X_pred = dataset.unstack_simulation_vector(X_pred)\n",
    "    X_test = dataset.unstack_simulation_vector(X_test)\n",
    "\n",
    "    # Compute simulation errors\n",
    "    errors = np.zeros(len(X_test))\n",
    "    for i in range(len(X_test)):\n",
    "        errors[i] = norm(X_test[i]-X_pred[i])/norm(X_test[i])\n",
    "\n",
    "    info['tau'].append(tau)\n",
    "    info['n_modes'].append(pod.n_modes)\n",
    "    info['query_time'].append((t_end-t_start)/len(X_pred))\n",
    "    info['mean_error'].append(np.mean(errors))\n",
    "    info['max_error'].append(np.max(errors))\n",
    "    info['min_error'].append(np.min(errors))"
   ],
   "metadata": {
    "collapsed": false,
    "pycharm": {
     "name": "#%%\n"
    }
   }
  },
  {
   "cell_type": "markdown",
   "source": [
    "Plotting"
   ],
   "metadata": {
    "collapsed": false,
    "pycharm": {
     "name": "#%% md\n"
    }
   }
  },
  {
   "cell_type": "code",
   "execution_count": 11,
   "outputs": [
    {
     "data": {
      "text/plain": "<Figure size 576x288 with 2 Axes>",
      "image/png": "[encoded data removed]"
     },
     "metadata": {
      "needs_background": "light"
     },
     "output_type": "display_data"
    }
   ],
   "source": [
    "from typing import List\n",
    "from matplotlib.pyplot import Figure, Axes\n",
    "\n",
    "fig, axs = plt.subplots(1, 2, figsize=(8, 4))\n",
    "fig: Figure = fig\n",
    "axs: List[Axes] = axs.ravel()\n",
    "\n",
    "for i, ax in enumerate(axs):\n",
    "    if i == 0:\n",
    "        ax.set_xlabel(f\"# of Modes\", fontsize=12)\n",
    "        ax.set_ylabel(f\"Relative $L^2$ Error\", fontsize=12)\n",
    "        ax.semilogy(info['n_modes'], info['mean_error'],\n",
    "                    '-b*', label=\"Mean Error\")\n",
    "        ax.semilogy(info['n_modes'], info['max_error'],\n",
    "                    '-ro', label=\"Max Error\")\n",
    "        ax.semilogy(info['n_modes'], info['min_error'],\n",
    "                    '-k+', label=\"Min Error\")\n",
    "        ax.legend()\n",
    "        ax.grid(True)\n",
    "    else:\n",
    "        ax.set_xlabel(f\"$\\\\tau$\", fontsize=12)\n",
    "        ax.loglog(taus, info['mean_error'], '-b*', label=\"Mean Error\")\n",
    "        ax.loglog(taus, info['max_error'], '-ro', label=\"Max Error\")\n",
    "        ax.loglog(taus, info['min_error'], '-k+', label=\"Min Error\")\n",
    "        ax.legend()\n",
    "        ax.grid(True)\n",
    "plt.tight_layout()\n",
    "plt.show()\n"
   ],
   "metadata": {
    "collapsed": false,
    "pycharm": {
     "name": "#%%\n"
    }
   }
  }
 ],
 "metadata": {
  "kernelspec": {
   "display_name": "Python 3",
   "language": "python",
   "name": "python3"
  },
  "language_info": {
   "codemirror_mode": {
    "name": "ipython",
    "version": 2
   },
   "file_extension": ".py",
   "mimetype": "text/x-python",
   "name": "python",
   "nbconvert_exporter": "python",
   "pygments_lexer": "ipython2",
   "version": "2.7.6"
  }
 },
 "nbformat": 4,
 "nbformat_minor": 0
}