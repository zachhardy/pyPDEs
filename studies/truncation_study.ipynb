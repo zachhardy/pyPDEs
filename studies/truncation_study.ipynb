{
 "cells": [
  {
   "cell_type": "code",
   "execution_count": 1,
   "metadata": {
    "collapsed": true
   },
   "outputs": [],
   "source": [
    "import os\n",
    "import sys\n",
    "import time\n",
    "import warnings\n",
    "\n",
    "import numpy as np\n",
    "from numpy.linalg import norm\n",
    "\n",
    "import matplotlib.pyplot as plt\n",
    "from matplotlib.pyplot import Figure, Axes\n",
    "\n",
    "from typing import List\n",
    "\n",
    "from pyROMs.pod import POD\n",
    "\n",
    "from utils import *\n",
    "\n",
    "warnings.filterwarnings('ignore')"
   ]
  },
  {
   "cell_type": "markdown",
   "source": [
    "Define Routines"
   ],
   "metadata": {
    "collapsed": false,
    "pycharm": {
     "name": "#%% md\n"
    }
   }
  },
  {
   "cell_type": "code",
   "execution_count": 14,
   "outputs": [],
   "source": [
    "def truncation_study(dataset, params,\n",
    "                     test_size, seed, interior_error):\n",
    "    \"\"\"Perform a mode truncation study.\"\"\"\n",
    "    vars = params[\"vars\"]\n",
    "    tau = params[\"tau\"]\n",
    "    interp = params[\"interp\"]\n",
    "    epsilon = params[\"epsilon\"]\n",
    "\n",
    "    # Setup storage\n",
    "    out = {'tau': [], 'n_modes': [],\n",
    "           'mean': [], 'max': [], 'min': []}\n",
    "\n",
    "    # Setup POD model\n",
    "    pod = POD(svd_rank=1.0-tau,\n",
    "              method=interp,\n",
    "              epsilon=epsilon)\n",
    "\n",
    "    # Setup training/validation sets\n",
    "    splits = dataset.train_test_split(\n",
    "        variables=vars, test_size=test_size,\n",
    "        seed=seed, interior_only=interior_only)\n",
    "    X_train, X_test, Y_train, Y_test = splits\n",
    "\n",
    "    # Run study\n",
    "    taus = [10.0**i for i in range(-16, 0)]\n",
    "    for tau in taus:\n",
    "\n",
    "        # Construct POD model, predict test data\n",
    "        pod.fit(X_train, Y_train, svd_rank=1.0-tau)\n",
    "        X_pod = pod.predict(Y_test)\n",
    "\n",
    "        # Format datasets\n",
    "        X_pod = dataset.unstack_simulation_vector(X_pod)\n",
    "        X_test = dataset.unstack_simulation_vector(X_test)\n",
    "\n",
    "        # Compute simulation errors\n",
    "        errors = np.zeros(len(X_test))\n",
    "        for i in range(len(X_test)):\n",
    "            errors[i] = norm(X_test[i]-X_pod[i])/norm(X_test[i])\n",
    "\n",
    "        # Store results\n",
    "        out['tau'].append(tau)\n",
    "        out['n_modes'].append(pod.n_modes)\n",
    "        out['mean'].append(np.mean(errors))\n",
    "        out['max'].append(np.max(errors))\n",
    "        out['min'].append(np.min(errors))\n",
    "    return out\n",
    "\n",
    "\n",
    "def plot_results(results):\n",
    "    \"\"\"Plot the truncation study results.\"\"\"\n",
    "    fig: Figure = plt.figure()\n",
    "    for i in range(2):\n",
    "        ax: Axes = fig.add_subplot(1, 2, i + 1)\n",
    "        if i == 0:\n",
    "            ax.set_xlabel(\"# of Modes\", fontsize=12)\n",
    "            ax.set_ylabel(\"$L^2$ Error\", fontsize=12)\n",
    "            ax.semilogy(results['n_modes'], results['mean'],\n",
    "                        '-*b', label=\"Mean\")\n",
    "            ax.semilogy(results['n_modes'], results['max'],\n",
    "                        '-or', label=\"Maximum\")\n",
    "            ax.semilogy(results['n_modes'], results['min'],\n",
    "                        '-+k', label=\"Minimum\")\n",
    "        else:\n",
    "            ax.set_xlabel(\"$\\\\tau$\", fontsize=12)\n",
    "            ax.loglog(results['tau'], results['mean'],\n",
    "                      '-*b', label=\"Mean\")\n",
    "            ax.loglog(results['tau'], results['max'],\n",
    "                      '-or', label=\"Maximum\")\n",
    "            ax.loglog(results['tau'], results['min'],\n",
    "                      '-+k', label=\"Minimum\")\n",
    "        ax.legend(fontsize=12)\n",
    "        ax.grid(True)\n",
    "    plt.tight_layout()"
   ],
   "metadata": {
    "collapsed": false,
    "pycharm": {
     "name": "#%%\n"
    }
   }
  },
  {
   "cell_type": "markdown",
   "source": [
    "Parse the Data"
   ],
   "metadata": {
    "collapsed": false,
    "pycharm": {
     "name": "#%% md\n"
    }
   }
  },
  {
   "cell_type": "code",
   "execution_count": 6,
   "outputs": [
    {
     "name": "stdout",
     "output_type": "stream",
     "text": [
      "Loading and formating the data...\n",
      "Loading the data took 12.801035 s\n"
     ]
    }
   ],
   "source": [
    "problem_name = input(\"What problem? \")\n",
    "\n",
    "print(\"Loading and formating the data...\")\n",
    "t_start = time.time()\n",
    "dataset = get_data(problem_name)\n",
    "t_end = time.time()\n",
    "print(f\"Loading the data took {t_end - t_start:3f} s\")"
   ],
   "metadata": {
    "collapsed": false,
    "pycharm": {
     "name": "#%%\n"
    }
   }
  },
  {
   "cell_type": "markdown",
   "source": [
    "Perform the Truncation Study"
   ],
   "metadata": {
    "collapsed": false,
    "pycharm": {
     "name": "#%% md\n"
    }
   }
  },
  {
   "cell_type": "code",
   "execution_count": 15,
   "outputs": [
    {
     "data": {
      "text/plain": "<Figure size 432x288 with 2 Axes>",
      "image/png": "[encoded data removed]"
     },
     "metadata": {
      "needs_background": "light"
     },
     "output_type": "display_data"
    }
   ],
   "source": [
    "params = get_params(problem_name)\n",
    "\n",
    "test_size = 0.2\n",
    "seed = 12\n",
    "interior_only = False\n",
    "\n",
    "res = truncation_study(dataset, params, test_size,\n",
    "                       seed, interior_only)\n",
    "plot_results(res)\n"
   ],
   "metadata": {
    "collapsed": false,
    "pycharm": {
     "name": "#%%\n"
    }
   }
  }
 ],
 "metadata": {
  "kernelspec": {
   "display_name": "Python 3",
   "language": "python",
   "name": "python3"
  },
  "language_info": {
   "codemirror_mode": {
    "name": "ipython",
    "version": 2
   },
   "file_extension": ".py",
   "mimetype": "text/x-python",
   "name": "python",
   "nbconvert_exporter": "python",
   "pygments_lexer": "ipython2",
   "version": "2.7.6"
  }
 },
 "nbformat": 4,
 "nbformat_minor": 0
}