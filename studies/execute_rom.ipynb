{
 "cells": [
  {
   "cell_type": "code",
   "execution_count": 5,
   "outputs": [],
   "source": [
    "import copy\n",
    "import sys\n",
    "import time\n",
    "import os\n",
    "import warnings\n",
    "\n",
    "import numpy as np\n",
    "import matplotlib.pyplot as plt\n",
    "from numpy.linalg import norm\n",
    "\n",
    "warnings.filterwarnings(\"ignore\")\n"
   ],
   "metadata": {
    "collapsed": false,
    "pycharm": {
     "name": "#%%\n"
    }
   }
  },
  {
   "cell_type": "markdown",
   "source": [
    "Parse the Data"
   ],
   "metadata": {
    "collapsed": false
   }
  },
  {
   "cell_type": "code",
   "execution_count": 6,
   "outputs": [
    {
     "name": "stdout",
     "output_type": "stream",
     "text": [
      "Loading and formating the data...\n",
      "Loading the data took 102.425117 s\n"
     ]
    }
   ],
   "source": [
    "from utils import get_data\n",
    "\n",
    "problem = 'lra'\n",
    "case = 1\n",
    "study = 6\n",
    "\n",
    "var = None\n",
    "if problem != 'three_group_sphere':\n",
    "    var = 'power_density'\n",
    "\n",
    "print(\"Loading and formating the data...\")\n",
    "t_start = time.time()\n",
    "if problem == 'infinite_slab':\n",
    "    dataset = get_data(problem, case, study)\n",
    "else:\n",
    "    dataset = get_data(problem, study)\n",
    "X = dataset.create_dataset_matrix(var)\n",
    "Y = dataset.parameters\n",
    "t_end = time.time()\n",
    "print(f\"Loading the data took {t_end - t_start:3f} s\")\n"
   ],
   "metadata": {
    "collapsed": false,
    "pycharm": {
     "name": "#%%\n"
    }
   }
  },
  {
   "cell_type": "markdown",
   "source": [
    "Define the QoI function"
   ],
   "metadata": {
    "collapsed": false
   }
  },
  {
   "cell_type": "code",
   "execution_count": 7,
   "outputs": [],
   "source": [
    "if problem == 'three_group_sphere':\n",
    "    def QoI(x):\n",
    "        dmd = DMD(svd_rank=4, opt=True)\n",
    "        dmd.fit(x)\n",
    "        omegas = np.log(dmd.eigvals)/dt\n",
    "        return omegas[np.argmax(omegas.real)]\n",
    "\n",
    "elif problem == 'infinite_slab':\n",
    "    def QoI(x):\n",
    "        return np.sum(x[-1])*2.0\n",
    "\n",
    "elif problem == 'twigl':\n",
    "    def QoI(x):\n",
    "        return np.sum(x[-1])*16.0\n",
    "\n",
    "elif problem == 'lra':\n",
    "    def QoI(x):\n",
    "        return np.max(x[np.argmax(np.max(x, axis=1))])\n",
    "\n",
    "else:\n",
    "    raise NotImplementedError(f\"QoI function not implemented for {problem}\")\n"
   ],
   "metadata": {
    "collapsed": false,
    "pycharm": {
     "name": "#%%\n"
    }
   }
  },
  {
   "cell_type": "markdown",
   "source": [
    "Performing Model Validation"
   ],
   "metadata": {
    "collapsed": false,
    "pycharm": {
     "name": "#%% md\n"
    }
   }
  },
  {
   "cell_type": "code",
   "execution_count": 15,
   "outputs": [
    {
     "name": "stdout",
     "output_type": "stream",
     "text": [
      "Performing validation...\n",
      "\tMean of Mean Fold Errors:\t1.013e-03\n",
      "\tMaximum Mean Fold Errors:\t3.008e-03\n",
      "\tMinimum Mean Fold Errors:\t4.076e-04\n",
      "\tMaximum of Maximum Fold Errors:\t5.201e-02\n",
      "\tMinimum of Minimum Fold Errors:\t1.301e-05\n",
      "Validation took 2.711 s.\n",
      "QoI:\t22529.704982696247\n",
      "QoI:\t15722.738336259808\n"
     ]
    },
    {
     "data": {
      "text/plain": "<Figure size 432x288 with 1 Axes>",
      "image/png": "[encoded data removed]"
     },
     "metadata": {
      "needs_background": "light"
     },
     "output_type": "display_data"
    }
   ],
   "source": [
    "from pyROMs import POD, DMD\n",
    "from sklearn.model_selection import KFold\n",
    "\n",
    "n_splits = 10\n",
    "interior_only = False\n",
    "seed = 12\n",
    "\n",
    "tau = 1.0e-8\n",
    "if problem == 'three_group_sphere':\n",
    "    interp = 'rbf_gaussian'\n",
    "    epsilon = 200.0\n",
    "elif problem == 'infinite_slab':\n",
    "    interp = 'rbf'\n",
    "    epsilon = 1.0\n",
    "elif problem == 'twigl':\n",
    "    interp = 'rbf'\n",
    "    epsilon = 20.0\n",
    "else:\n",
    "    interp = 'rbf'\n",
    "    epsilon = 100.0\n",
    "\n",
    "print(\"Performing validation...\")\n",
    "t_start = time.time()\n",
    "cv = KFold(n_splits=n_splits, shuffle=True, random_state=seed)\n",
    "pod = POD(svd_rank=1.0-tau)\n",
    "errors = {'mean': [], 'max': [], 'min': []}\n",
    "for train, test in cv.split(X, Y):\n",
    "    pod = pod.fit(X[train], Y[train], interp, epsilon=epsilon)\n",
    "    X_pod = pod.predict(Y[test])\n",
    "\n",
    "    X_test = dataset.unstack_simulation_vector(X[test])\n",
    "    X_pod = dataset.unstack_simulation_vector(X_pod)\n",
    "\n",
    "    fold_error = np.zeros(len(test))\n",
    "    for i in range(len(test)):\n",
    "        qoi_test = QoI(X_test[i])\n",
    "        qoi_pod = QoI(X_pod[i])\n",
    "        fold_error[i] = abs(qoi_test-qoi_pod)/abs(qoi_test)\n",
    "    errors['mean'].append(np.mean(fold_error)/len(test))\n",
    "    errors['max'].append(np.max(fold_error))\n",
    "    errors['min'].append(np.min(fold_error))\n",
    "t_end = time.time()\n",
    "print(f\"\\tMean of Mean Fold Errors:\\t{np.mean(errors['mean']):.3e}\")\n",
    "print(f\"\\tMaximum Mean Fold Errors:\\t{np.max(errors['mean']):.3e}\")\n",
    "print(f\"\\tMinimum Mean Fold Errors:\\t{np.min(errors['mean']):.3e}\")\n",
    "print(f\"\\tMaximum of Maximum Fold Errors:\\t{np.max(errors['max']):.3e}\")\n",
    "print(f\"\\tMinimum of Minimum Fold Errors:\\t{np.min(errors['min']):.3e}\")\n",
    "print(f\"Validation took {t_end-t_start:.3f} s.\")\n",
    "\n",
    "plt.figure()\n",
    "plt.xlabel(\"Time (s)\", fontsize=12)\n",
    "plt.ylabel(\"Power (W)\", fontsize=12)\n",
    "\n",
    "# Get max peak power per simulation\n",
    "peak_power = []\n",
    "for s in range(len(dataset.simulations)):\n",
    "    simulation = dataset.simulations[s]\n",
    "    P_max = np.max(simulation.powers)\n",
    "    peak_power.append(P_max)\n",
    "\n",
    "# Plot min/max max peak powers over the space\n",
    "styles = ['-*b', '-or']\n",
    "argmin = int(np.argmin(peak_power))\n",
    "argmax = int(np.argmax(peak_power))\n",
    "for i, s in enumerate([argmax, argmin]):\n",
    "    simulation = dataset.simulations[s]\n",
    "    P = simulation.powers\n",
    "    print(f\"QoI:\\t{QoI(simulation.power_densities)}\")\n",
    "    plt.plot(dataset.times, P, styles[i])\n",
    "plt.grid(True)\n",
    "plt.tight_layout()"
   ],
   "metadata": {
    "collapsed": false,
    "pycharm": {
     "name": "#%%\n"
    }
   }
  },
  {
   "cell_type": "markdown",
   "source": [
    "Fit the ROM to All Data"
   ],
   "metadata": {
    "collapsed": false
   }
  },
  {
   "cell_type": "code",
   "execution_count": 16,
   "outputs": [
    {
     "name": "stdout",
     "output_type": "stream",
     "text": [
      "Fitting the ROM to all available data...\n",
      "Fitting took 0.295 s.\n"
     ]
    },
    {
     "data": {
      "text/plain": "<Figure size 432x288 with 1 Axes>",
      "image/png": "[encoded data removed]"
     },
     "metadata": {
      "needs_background": "light"
     },
     "output_type": "display_data"
    }
   ],
   "source": [
    "print(\"Fitting the ROM to all available data...\")\n",
    "t_start = time.time()\n",
    "pod.fit(X, Y, interp, epsilon=epsilon)\n",
    "t_end = time.time()\n",
    "print(f\"Fitting took {t_end-t_start:.3f} s.\")\n",
    "\n",
    "pod.plot_singular_values()"
   ],
   "metadata": {
    "collapsed": false,
    "pycharm": {
     "name": "#%%\n"
    }
   }
  },
  {
   "cell_type": "markdown",
   "source": [
    "Generate Random Samples and Query the ROM\n"
   ],
   "metadata": {
    "collapsed": false
   }
  },
  {
   "cell_type": "code",
   "execution_count": 17,
   "outputs": [
    {
     "name": "stdout",
     "output_type": "stream",
     "text": [
      "Starting ROM queries...\n",
      "ROM queries took 79.907 s.\n",
      "Mean:\t1.271e+04.\n",
      "STD:\t2.478e+03\n"
     ]
    },
    {
     "data": {
      "text/plain": "<Figure size 432x288 with 1 Axes>",
      "image/png": "[encoded data removed]"
     },
     "metadata": {
      "needs_background": "light"
     },
     "output_type": "display_data"
    }
   ],
   "source": [
    "import seaborn as sb\n",
    "from matplotlib.pyplot import Figure, Axes\n",
    "\n",
    "n_samples = int(1.0e4)\n",
    "\n",
    "rng = np.random.default_rng()\n",
    "bounds = dataset.parameter_bounds\n",
    "samples = np.zeros((n_samples, dataset.n_parameters))\n",
    "for p in range(samples.shape[1]):\n",
    "    samples[:, p] = rng.uniform(*bounds[p], n_samples)\n",
    "\n",
    "qoi = np.zeros((n_samples,))\n",
    "dt = np.diff(dataset.times)[0]\n",
    "\n",
    "# POD predictions\n",
    "print(\"Starting ROM queries...\")\n",
    "t_start = time.time()\n",
    "X_pod = pod.predict(samples)\n",
    "X_pod = dataset.unstack_simulation_vector(X_pod)\n",
    "for i in range(n_samples):\n",
    "    qoi[i] = QoI(X_pod[i])\n",
    "t_end = time.time()\n",
    "print(f\"ROM queries took {t_end-t_start:.3f} s.\")\n",
    "\n",
    "print(f\"Mean:\\t{np.mean(qoi):.3e}.\")\n",
    "print(f\"STD:\\t{np.std(qoi):.3e}\")\n",
    "\n",
    "fig = plt.figure(figsize=(6, 4))\n",
    "ax = fig.add_subplot(1, 1, 1)\n",
    "xlabel = r\"QoI\"\n",
    "ylabel = \"Probability\"\n",
    "sb.histplot(qoi, stat='probability', bins=20, kde=True, ax=ax)\n",
    "ax.set_xlabel(xlabel, fontsize=12)\n",
    "ax.set_ylabel(ylabel, fontsize=12)\n",
    "ax.grid(True)\n",
    "plt.tight_layout()\n",
    "\n",
    "base = \"/Users/zacharyhardy/Documents/phd/dissertation/\" \\\n",
    "       \"dissertation/figures/chapter10\"\n",
    "if problem == 'three_group_sphere':\n",
    "    filename = f\"{base}/alpha_rom.pdf\"\n",
    "elif problem == 'infinite_slab':\n",
    "    filename = f\"{base}/inf_slab_final_power.pdf\"\n",
    "elif problem == 'twigl':\n",
    "    filename = f\"{base}/twigl_final_power.pdf\"\n",
    "elif problem == 'lra':\n",
    "    filename = f\"{base}/lra_peak_power.pdf\"\n",
    "else:\n",
    "    raise ValueError(\"Huh?\")\n",
    "\n",
    "dirname = '/'.join(filename.split('/')[:-1])\n",
    "if not os.path.isdir(dirname):\n",
    "    os.makedirs(dirname)\n",
    "plt.savefig(filename)"
   ],
   "metadata": {
    "collapsed": false,
    "pycharm": {
     "name": "#%%\n"
    }
   }
  }
 ],
 "metadata": {
  "kernelspec": {
   "display_name": "Python 3",
   "language": "python",
   "name": "python3"
  },
  "language_info": {
   "codemirror_mode": {
    "name": "ipython",
    "version": 2
   },
   "file_extension": ".py",
   "mimetype": "text/x-python",
   "name": "python",
   "nbconvert_exporter": "python",
   "pygments_lexer": "ipython2",
   "version": "2.7.6"
  }
 },
 "nbformat": 4,
 "nbformat_minor": 0
}