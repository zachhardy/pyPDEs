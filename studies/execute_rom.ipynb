{
 "cells": [
  {
   "cell_type": "code",
   "execution_count": 10,
   "outputs": [],
   "source": [
    "import time\n",
    "import warnings\n",
    "\n",
    "import numpy as np\n",
    "from numpy.linalg import norm\n",
    "\n",
    "import seaborn as sb\n",
    "import matplotlib.pyplot as plt\n",
    "from matplotlib.pyplot import Figure, Axes\n",
    "\n",
    "from sklearn.model_selection import LeaveOneOut\n",
    "\n",
    "from pyROMs import POD, DMD, PartitionedDMD\n",
    "from readers import NeutronicsDatasetReader\n",
    "\n",
    "from utils import *\n",
    "\n",
    "warnings.filterwarnings(\"ignore\")"
   ],
   "metadata": {
    "collapsed": false,
    "pycharm": {
     "name": "#%%\n"
    }
   }
  },
  {
   "cell_type": "markdown",
   "source": [
    "Define Routines"
   ],
   "metadata": {
    "collapsed": false,
    "pycharm": {
     "name": "#%% md\n"
    }
   }
  },
  {
   "cell_type": "code",
   "execution_count": 11,
   "outputs": [],
   "source": [
    "def model_validation(dataset, pod, n_splits=5, interior_only=True,\n",
    "                     vars=None, shuffle=True, random_state=None):\n",
    "    \"\"\"\n",
    "    Perform model validation before implementing the ROM.\n",
    "\n",
    "    Parameters\n",
    "    ----------\n",
    "    dataset : NeutronicsDatasetReader\n",
    "        The dataset reader containing the data.\n",
    "    pod : POD\n",
    "        The POD model with the appropriate hyper-parameters.\n",
    "    n_splits : int, default 5\n",
    "        The number of splits for the cross-validation study.\n",
    "    interior_only : bool, default False\n",
    "        A flag to include only interior values in the validation set.\n",
    "    vars : str, default None\n",
    "        The variables to include in the study.\n",
    "    shuffle : bool, default True\n",
    "        Flag for shuffling the data.\n",
    "    random_state : int, default None\n",
    "        Random seed to use for shuffling.\n",
    "    \"\"\"\n",
    "    # Get the data\n",
    "    X = dataset.create_dataset_matrix(vars)\n",
    "    Y = dataset.parameters\n",
    "\n",
    "    # Initialize cross-validator\n",
    "    loo = LeaveOneOut()\n",
    "    if interior_only:\n",
    "        interior = dataset.interior_map\n",
    "        iterator = loo.split(X[interior], Y[interior])\n",
    "    else:\n",
    "        iterator = loo.split(X, Y)\n",
    "\n",
    "    # Run leave-one-out study\n",
    "    errors = []\n",
    "    for train, test in iterator:\n",
    "        if interior_only:\n",
    "            X_train, Y_train = X[interior][train], Y[interior][train]\n",
    "            X_test, Y_test = X[interior][test], Y[interior][test]\n",
    "            X_train = np.vstack((X_train, X[dataset.boundary_map]))\n",
    "            Y_train = np.vstack((Y_train, Y[dataset.boundary_map]))\n",
    "        else:\n",
    "            X_train, Y_train = X[train], Y[train]\n",
    "            X_test, Y_test = X[test], Y[test]\n",
    "\n",
    "        pod.fit(X_train, Y_train)\n",
    "        X_pod = pod.predict(Y_test)\n",
    "\n",
    "        error = norm(X_test[0] - X_pod[0]) / norm(X_test[0])\n",
    "        errors.append(error)\n",
    "\n",
    "    # Fit to all data\n",
    "    t_start = time.time()\n",
    "    pod.fit(X, Y)\n",
    "    t_end = time.time()\n",
    "\n",
    "    # Print statistics\n",
    "    print()\n",
    "    print(f\"*** Summary of LOO Validation ***\")\n",
    "    print(f\"{'Average Error:':<20}\\t{np.mean(errors):.3e}\")\n",
    "    print(f\"{'Maximum Error:':<20}\\t{np.max(errors):.3e}\")\n",
    "    print(f\"{'Minimum Error:':<20}\\t{np.min(errors):.3e}\")\n",
    "\n",
    "    print()\n",
    "    print(f\"ROM Construction Time:\\t{t_end - t_start:.3e} s\")\n",
    "\n",
    "\n",
    "def excercise_rom(pod, distribution,\n",
    "                  qoi_function, n_samples=int(2e4)):\n",
    "    \"\"\"\n",
    "    Excercise the ROM for QoI `qoi_function` with `n_samples`.\n",
    "\n",
    "    Parameters\n",
    "    ----------\n",
    "    pod : POD\n",
    "    distribution : dict\n",
    "        Dictionary containing the distribution type, and arguments\n",
    "        that describe it.\n",
    "    qoi_function : callable\n",
    "    n_samples : int, default 20,000\n",
    "\n",
    "    Returns\n",
    "    -------\n",
    "    ndarray (n_samples,)\n",
    "    \"\"\"\n",
    "    # Generate samples\n",
    "    rng = np.random.default_rng()\n",
    "    if distribution[\"type\"] == \"uniform\":\n",
    "        if \"bounds\" not in distribution:\n",
    "            raise ValueError(f\"Uniform distributions must take have \"\n",
    "                             f\"accompanying low and high bounds.\")\n",
    "\n",
    "        # Get and check distribution args\n",
    "        bounds = distribution[\"bounds\"]\n",
    "        if len(bounds) != pod.n_parameters:\n",
    "            raise ValueError(\"Parameter bounds must be specified for \"\n",
    "                             \"each parameter of the POD ROM.\")\n",
    "        for p in range(len(bounds)):\n",
    "            if len(bounds[p]) != 2:\n",
    "                raise ValueError(\n",
    "                    \"Parameter bounds must be specified as [low, high].\")\n",
    "\n",
    "        # Generate samples\n",
    "        samples = np.empty((n_samples, pod.n_parameters))\n",
    "        for p in range(pod.n_parameters):\n",
    "            low, high = bounds[p][0], bounds[p][1]\n",
    "            samples[:, p] = rng.uniform(low, high, n_samples)\n",
    "\n",
    "    else:\n",
    "        raise NotImplementedError(\"Other distributions not implemented.\")\n",
    "\n",
    "    # Make predictions asbout QoI\n",
    "    print(\"Starting ROM queries...\")\n",
    "    qoi = np.zeros(n_samples)\n",
    "\n",
    "    t_start = time.time()\n",
    "    X_pod = pod.predict(samples)\n",
    "    for s in range(n_samples):\n",
    "        qoi[s] = qoi_function(X_pod[s])\n",
    "    t_end = time.time()\n",
    "    print(f\"ROM queries took {t_end - t_start:.3e} s.\")\n",
    "    print(f\"Mean QoI:\\t{np.mean(qoi):.3e}\")\n",
    "    print(f\"STD QoI:\\t{np.std(qoi):.3e}\")\n",
    "    return qoi\n",
    "\n",
    "\n",
    "def plot_bounding_cases(dataset, qoi_function):\n",
    "    \"\"\"\n",
    "    Plot the bounding cases for the parameter space.\n",
    "\n",
    "    Parameters\n",
    "    ----------\n",
    "    dataset : NeutronicsDatasetReader\n",
    "    vars : str, default None\n",
    "    \"\"\"\n",
    "    peak_power = []\n",
    "    for s in range(len(dataset.simulations)):\n",
    "        simulation = dataset.simulations[s]\n",
    "        P_max = np.max(simulation.powers)\n",
    "        peak_power.append(P_max)\n",
    "\n",
    "    plt.figure()\n",
    "    plt.tick_params(labelsize=12)\n",
    "    plt.xlabel(\"Time (s)\", fontsize=14)\n",
    "    plt.ylabel(\"Power (W)\", fontsize=14)\n",
    "\n",
    "    styles = [\"-*b\", \"-or\"]\n",
    "    argmin = int(np.argmin(peak_power))\n",
    "    argmax = int(np.argmax(peak_power))\n",
    "    for i, s in enumerate([argmax, argmin]):\n",
    "        simulation = dataset.simulations[s]\n",
    "        P = simulation.powers\n",
    "        plt.plot(dataset.times, P, styles[i])\n",
    "        qoi = qoi_function(simulation.power_densities)\n",
    "        print(f\"QoI:\\t{qoi:.3e}\")\n",
    "    plt.grid(True)\n",
    "    plt.tight_layout()\n",
    "\n",
    "\n",
    "def plot_distribution(qoi, xlabel=None):\n",
    "    \"\"\"\n",
    "    Plot the QoI distribution.\n",
    "\n",
    "    Parameters\n",
    "    ----------\n",
    "    qoi : numpy.ndarray\n",
    "        The QoIs from the ROM.\n",
    "    \"\"\"\n",
    "    xlabel = \"QoI\" if xlabel is None else xlabel\n",
    "\n",
    "    fig: Figure = plt.figure()\n",
    "    ax: Axes = fig.add_subplot(1, 1, 1)\n",
    "    ax.tick_params(labelsize=12)\n",
    "    ax.set_xlabel(xlabel, fontsize=14)\n",
    "    ax.set_ylabel(\"Probability\", fontsize=14)\n",
    "    sb.histplot(qoi, bins=20, stat='probability', kde=True,\n",
    "                log_scale=False, ax=ax)\n",
    "    plt.tight_layout()\n",
    "\n",
    "\n",
    "def print_statistics_table(qoi):\n",
    "    \"\"\"\n",
    "    Print a table containing the distribution statistics.\n",
    "\n",
    "    Parameters\n",
    "    ----------\n",
    "    qoi : numpy.ndarray\n",
    "    \"\"\"\n",
    "    conf = np.percentile(qoi, [2.5, 97.5])\n",
    "    msg = \"\\\\begin{tabular}{c|c}\"\n",
    "    msg += \"\\n\\t \\\\textbf{Quantity} & \\\\textbf{Value} \\\\\\\\ \\hline\"\n",
    "    msg += f\"\\n\\t Mean & {np.mean(qoi):.3e} \\\\\\\\\"\n",
    "    msg += f\"\\n\\t Median & {np.median(qoi):.3e} \\\\\\\\\"\n",
    "    msg += f\"\\n\\t Std. Deviation & {np.std(qoi):.3e} \\\\\\\\\"\n",
    "    msg += f\"\\n\\t 95\\% Conf. Interval & [{conf[0]:.3e}, {conf[1]:.3e}] \\\\\\\\\"\n",
    "    msg += \"\\n\\end{tabular}\"\n",
    "    print(msg)\n"
   ],
   "metadata": {
    "collapsed": false,
    "pycharm": {
     "name": "#%%\n"
    }
   }
  },
  {
   "cell_type": "markdown",
   "source": [
    "Parse the Data"
   ],
   "metadata": {
    "collapsed": false
   }
  },
  {
   "cell_type": "code",
   "execution_count": 12,
   "outputs": [
    {
     "name": "stdout",
     "output_type": "stream",
     "text": [
      "Loading and formating the data...\n",
      "Loading the data took 17.294995 s\n"
     ]
    }
   ],
   "source": [
    "problem_name = input(\"What problem? \")\n",
    "\n",
    "print(\"Loading and formating the data...\")\n",
    "t_start = time.time()\n",
    "dataset = get_data(problem_name)\n",
    "t_end = time.time()\n",
    "print(f\"Loading the data took {t_end - t_start:3f} s\")\n"
   ],
   "metadata": {
    "collapsed": false,
    "pycharm": {
     "name": "#%%\n"
    }
   }
  },
  {
   "cell_type": "markdown",
   "source": [
    "Performing Model Validation"
   ],
   "metadata": {
    "collapsed": false,
    "pycharm": {
     "name": "#%% md\n"
    }
   }
  },
  {
   "cell_type": "code",
   "execution_count": 7,
   "outputs": [
    {
     "name": "stdout",
     "output_type": "stream",
     "text": [
      "\n",
      "*** Summary of LOO Validation ***\n",
      "Average Error:      \t5.464e-03\n",
      "Maximum Error:      \t8.497e-03\n",
      "Minimum Error:      \t2.473e-03\n",
      "\n",
      "ROM Construction Time:\t3.930e-02 s\n"
     ]
    }
   ],
   "source": [
    "interior_only = True\n",
    "\n",
    "params = get_params(problem_name)\n",
    "vars = params[\"vars\"]\n",
    "svd_rank = 1.0 - params[\"tau\"]\n",
    "interp = params[\"interp\"]\n",
    "epsilon = params[\"epsilon\"]\n",
    "\n",
    "pod = POD(svd_rank, interp, epsilon)\n",
    "res = model_validation(dataset, pod, vars=vars)\n"
   ],
   "metadata": {
    "collapsed": false,
    "pycharm": {
     "name": "#%%\n"
    }
   }
  },
  {
   "cell_type": "markdown",
   "source": [
    "Generate Random Samples and Query the ROM\n"
   ],
   "metadata": {
    "collapsed": false
   }
  },
  {
   "cell_type": "code",
   "execution_count": 8,
   "outputs": [
    {
     "name": "stdout",
     "output_type": "stream",
     "text": [
      "QoI:\t3.837e+00\n",
      "QoI:\t1.499e+00\n",
      "Starting ROM queries...\n",
      "ROM queries took 3.215e+00 s.\n",
      "Mean QoI:\t2.248e+00\n",
      "STD QoI:\t4.609e-01\n"
     ]
    },
    {
     "data": {
      "text/plain": "<Figure size 432x288 with 1 Axes>",
      "image/png": "[encoded data removed]"
     },
     "metadata": {
      "needs_background": "light"
     },
     "output_type": "display_data"
    }
   ],
   "source": [
    "if 'sphere' in problem_name:\n",
    "    dmd = DMD(svd_rank=4)\n",
    "    dt = np.diff(dataset.times)[0]\n",
    "    def QoI(x):\n",
    "        if x.ndim == 1:\n",
    "            x = dataset.unstack_simulation_vector(x)[0]\n",
    "        dmd.fit(x)\n",
    "        omegas = np.log(dmd.eigvals)/dt\n",
    "        return omegas[np.argmax(omegas.real)]\n",
    "\n",
    "elif 'slab' in problem_name:\n",
    "    def QoI(x):\n",
    "        if x.ndim == 1:\n",
    "            x = dataset.unstack_simulation_vector(x)[0]\n",
    "        return np.sum(x[-1]) * 2.0\n",
    "\n",
    "elif 'twigl' in problem_name:\n",
    "    def QoI(x):\n",
    "        if x.ndim == 1:\n",
    "            x = dataset.unstack_simulation_vector(x)[0]\n",
    "        return np.sum(x[-1]) * 4.0**2\n",
    "\n",
    "elif 'lra' in problem_name:\n",
    "    def QoI(x):\n",
    "        if x.ndim == 1:\n",
    "            x = dataset.unstack_simulation_vector(x)[0]\n",
    "        x = x[np.argmax(np.sum(x, axis=1))]\n",
    "        return np.sum(x) * 7.5**2\n",
    "\n",
    "plot_bounding_cases(dataset, QoI)\n",
    "\n",
    "dinfo = {\"type\": \"uniform\",\n",
    "         \"bounds\": dataset.parameter_bounds}\n",
    "qoi = excercise_rom(pod, dinfo, QoI, n_samples=20000)\n"
   ],
   "metadata": {
    "collapsed": false,
    "pycharm": {
     "name": "#%%\n"
    }
   }
  },
  {
   "cell_type": "markdown",
   "source": [
    "Plot the Distribution"
   ],
   "metadata": {
    "collapsed": false,
    "pycharm": {
     "name": "#%% md\n"
    }
   }
  },
  {
   "cell_type": "code",
   "execution_count": 9,
   "outputs": [
    {
     "name": "stdout",
     "output_type": "stream",
     "text": [
      "\\begin{tabular}{c|c}\n",
      "\t \\textbf{Quantity} & \\textbf{Value} \\\\ \\hline\n",
      "\t Mean & 2.248e+00 \\\\\n",
      "\t Median & 2.177e+00 \\\\\n",
      "\t Std. Deviation & 4.609e-01 \\\\\n",
      "\t 95\\% Conf. Interval & [1.528e+00, 3.271e+00] \\\\\n",
      "\\end{tabular}\n"
     ]
    },
    {
     "data": {
      "text/plain": "<Figure size 432x288 with 1 Axes>",
      "image/png": "[encoded data removed]"
     },
     "metadata": {
      "needs_background": "light"
     },
     "output_type": "display_data"
    }
   ],
   "source": [
    "if 'sphere' in problem_name:\n",
    "    qoi_name = \"$\\\\alpha_0\"\n",
    "elif 'slab' in problem_name or 'twigl' in problem_name:\n",
    "    qoi_name = \"Final Power\"\n",
    "elif 'lra' in problem_name:\n",
    "    qoi_name = \"Peak Power\"\n",
    "plot_distribution(qoi, qoi_name)\n",
    "\n",
    "print_statistics_table(qoi)\n"
   ],
   "metadata": {
    "collapsed": false,
    "pycharm": {
     "name": "#%%\n"
    }
   }
  }
 ],
 "metadata": {
  "kernelspec": {
   "display_name": "Python 3",
   "language": "python",
   "name": "python3"
  },
  "language_info": {
   "codemirror_mode": {
    "name": "ipython",
    "version": 2
   },
   "file_extension": ".py",
   "mimetype": "text/x-python",
   "name": "python",
   "nbconvert_exporter": "python",
   "pygments_lexer": "ipython2",
   "version": "2.7.6"
  }
 },
 "nbformat": 4,
 "nbformat_minor": 0
}