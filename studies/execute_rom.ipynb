{
 "cells": [
  {
   "cell_type": "code",
   "execution_count": 38,
   "outputs": [],
   "source": [
    "import copy\n",
    "import sys\n",
    "import time\n",
    "import warnings\n",
    "\n",
    "import numpy as np\n",
    "import matplotlib.pyplot as plt\n",
    "\n",
    "from numpy.linalg import norm\n",
    "from matplotlib.pyplot import Figure, Axes\n",
    "from sklearn.model_selection import KFold\n",
    "\n",
    "from studies.utils import *\n",
    "from pyROMs import POD, DMD\n",
    "\n",
    "%matplotlib inline\n",
    "warnings.filterwarnings(\"ignore\")"
   ],
   "metadata": {
    "collapsed": false,
    "pycharm": {
     "name": "#%%\n"
    }
   }
  },
  {
   "cell_type": "markdown",
   "source": [
    "Parse the Data"
   ],
   "metadata": {
    "collapsed": false
   }
  },
  {
   "cell_type": "code",
   "execution_count": 39,
   "outputs": [
    {
     "name": "stdout",
     "output_type": "stream",
     "text": [
      "Loading and formating the data...\n",
      "Loading the data took 46.040665 s\n"
     ]
    }
   ],
   "source": [
    "print(\"Loading and formating the data...\")\n",
    "t_start = time.time()\n",
    "if problem == 'infinite_slab':\n",
    "    dataset = get_data(problem, case, study)\n",
    "else:\n",
    "    dataset = get_data(problem, study)\n",
    "X = dataset.create_dataset_matrix(var)\n",
    "Y = dataset.parameters\n",
    "t_end = time.time()\n",
    "print(f\"Loading the data took {t_end - t_start:3f} s\")\n"
   ],
   "metadata": {
    "collapsed": false,
    "pycharm": {
     "name": "#%%\n"
    }
   }
  },
  {
   "cell_type": "markdown",
   "source": [
    "Parameter Definitions"
   ],
   "metadata": {
    "collapsed": false
   }
  },
  {
   "cell_type": "code",
   "execution_count": 40,
   "outputs": [],
   "source": [
    "problem = 'lra'\n",
    "case = 0\n",
    "study = 4\n",
    "\n",
    "var = None\n",
    "if problem != 'three_group_sphere':\n",
    "    var = 'power_density'\n",
    "\n",
    "n_splits = 20\n",
    "interior_only = False\n",
    "seed = 12\n",
    "\n",
    "tau = 1.0e-8\n",
    "interp = 'rbf'\n",
    "epsilon = 200.0\n",
    "\n",
    "n_samples = int(1.0e4)"
   ],
   "metadata": {
    "collapsed": false,
    "pycharm": {
     "name": "#%%\n"
    }
   }
  },
  {
   "cell_type": "markdown",
   "source": [
    "Define the QoI function"
   ],
   "metadata": {
    "collapsed": false
   }
  },
  {
   "cell_type": "code",
   "execution_count": 41,
   "outputs": [],
   "source": [
    "def QoI(x):\n",
    "    dmd = DMD(svd_rank=4, opt=True)\n",
    "    dmd.fit(x)\n",
    "    omegas = np.log(dmd.eigvals)/dt\n",
    "    return omegas[np.argmax(omegas.real)]"
   ],
   "metadata": {
    "collapsed": false,
    "pycharm": {
     "name": "#%%\n"
    }
   }
  },
  {
   "cell_type": "markdown",
   "source": [
    "Performing Model Validation"
   ],
   "metadata": {
    "collapsed": false,
    "pycharm": {
     "name": "#%% md\n"
    }
   }
  },
  {
   "cell_type": "code",
   "execution_count": 42,
   "outputs": [
    {
     "name": "stdout",
     "output_type": "stream",
     "text": [
      "Performing validation...\n",
      "\tMean of Mean Fold Errors:\t9.292e-03\n",
      "\tMaximum Mean Fold Errors:\t2.946e-02\n",
      "\tMinimum Mean Fold Errors:\t7.651e-04\n",
      "\tMaximum of Maximum Fold Errors:\t2.946e-02\n",
      "\tMinimum of Minimum Fold Errors:\t7.651e-04\n",
      "Validation took 2.026 s.\n"
     ]
    }
   ],
   "source": [
    "print(\"Performing validation...\")\n",
    "t_start = time.time()\n",
    "cv = KFold(n_splits=n_splits, shuffle=True, random_state=seed)\n",
    "pod = POD(svd_rank=1.0-tau)\n",
    "errors = {'mean': [], 'max': [], 'min': []}\n",
    "for train, test in cv.split(X, Y):\n",
    "    pod = pod.fit(X[train], Y[train], interp, epsilon=epsilon)\n",
    "    X_pod = pod.predict(Y[test])\n",
    "\n",
    "    fold_error = np.zeros(len(test))\n",
    "    for i in range(len(test)):\n",
    "        fold_error[i] = norm(X_pod[i]-X[test[i]])/norm(X[test[i]])\n",
    "    errors['mean'].append(np.mean(fold_error)/len(test))\n",
    "    errors['max'].append(np.max(fold_error))\n",
    "    errors['min'].append(np.min(fold_error))\n",
    "t_end = time.time()\n",
    "print(f\"\\tMean of Mean Fold Errors:\\t{np.mean(errors['mean']):.3e}\")\n",
    "print(f\"\\tMaximum Mean Fold Errors:\\t{np.max(errors['mean']):.3e}\")\n",
    "print(f\"\\tMinimum Mean Fold Errors:\\t{np.min(errors['mean']):.3e}\")\n",
    "print(f\"\\tMaximum of Maximum Fold Errors:\\t{np.max(errors['max']):.3e}\")\n",
    "print(f\"\\tMinimum of Minimum Fold Errors:\\t{np.min(errors['min']):.3e}\")\n",
    "print(f\"Validation took {t_end-t_start:.3f} s.\")"
   ],
   "metadata": {
    "collapsed": false,
    "pycharm": {
     "name": "#%%\n"
    }
   }
  },
  {
   "cell_type": "markdown",
   "source": [
    "Fit the ROM to All Data"
   ],
   "metadata": {
    "collapsed": false
   }
  },
  {
   "cell_type": "code",
   "execution_count": 43,
   "outputs": [
    {
     "name": "stdout",
     "output_type": "stream",
     "text": [
      "Fitting the ROM to all available data...\n",
      "Fitting took 0.124 s.\n"
     ]
    },
    {
     "data": {
      "text/plain": "<Figure size 432x288 with 1 Axes>",
      "image/png": "[encoded data removed]"
     },
     "metadata": {
      "needs_background": "light"
     },
     "output_type": "display_data"
    }
   ],
   "source": [
    "print(\"Fitting the ROM to all available data...\")\n",
    "t_start = time.time()\n",
    "pod.fit(X, Y, 'rbf')\n",
    "t_end = time.time()\n",
    "print(f\"Fitting took {t_end-t_start:.3f} s.\")\n",
    "\n",
    "pod.plot_singular_values()"
   ],
   "metadata": {
    "collapsed": false,
    "pycharm": {
     "name": "#%%\n"
    }
   }
  },
  {
   "cell_type": "markdown",
   "source": [
    "Generate Random Samples and Query the ROM\n"
   ],
   "metadata": {
    "collapsed": false
   }
  },
  {
   "cell_type": "code",
   "execution_count": 44,
   "outputs": [
    {
     "name": "stdout",
     "output_type": "stream",
     "text": [
      "Starting ROM queries...\n"
     ]
    },
    {
     "ename": "KeyboardInterrupt",
     "evalue": "",
     "output_type": "error",
     "traceback": [
      "\u001B[0;31m---------------------------------------------------------------------------\u001B[0m",
      "\u001B[0;31mKeyboardInterrupt\u001B[0m                         Traceback (most recent call last)",
      "\u001B[0;32m/var/folders/2f/k9j6f9l54nvddjrct25wv8sh0000gn/T/ipykernel_16393/3161963940.py\u001B[0m in \u001B[0;36m<module>\u001B[0;34m\u001B[0m\n\u001B[1;32m     14\u001B[0m \u001B[0mX_pod\u001B[0m \u001B[0;34m=\u001B[0m \u001B[0mdataset\u001B[0m\u001B[0;34m.\u001B[0m\u001B[0munstack_simulation_vector\u001B[0m\u001B[0;34m(\u001B[0m\u001B[0mX_pod\u001B[0m\u001B[0;34m)\u001B[0m\u001B[0;34m\u001B[0m\u001B[0;34m\u001B[0m\u001B[0m\n\u001B[1;32m     15\u001B[0m \u001B[0;32mfor\u001B[0m \u001B[0mi\u001B[0m \u001B[0;32min\u001B[0m \u001B[0mrange\u001B[0m\u001B[0;34m(\u001B[0m\u001B[0mn_samples\u001B[0m\u001B[0;34m)\u001B[0m\u001B[0;34m:\u001B[0m\u001B[0;34m\u001B[0m\u001B[0;34m\u001B[0m\u001B[0m\n\u001B[0;32m---> 16\u001B[0;31m     \u001B[0mqoi\u001B[0m\u001B[0;34m[\u001B[0m\u001B[0mi\u001B[0m\u001B[0;34m]\u001B[0m \u001B[0;34m=\u001B[0m \u001B[0mQoI\u001B[0m\u001B[0;34m(\u001B[0m\u001B[0mX_pod\u001B[0m\u001B[0;34m[\u001B[0m\u001B[0mi\u001B[0m\u001B[0;34m]\u001B[0m\u001B[0;34m)\u001B[0m\u001B[0;34m\u001B[0m\u001B[0;34m\u001B[0m\u001B[0m\n\u001B[0m\u001B[1;32m     17\u001B[0m \u001B[0mt_end\u001B[0m \u001B[0;34m=\u001B[0m \u001B[0mtime\u001B[0m\u001B[0;34m.\u001B[0m\u001B[0mtime\u001B[0m\u001B[0;34m(\u001B[0m\u001B[0;34m)\u001B[0m\u001B[0;34m\u001B[0m\u001B[0;34m\u001B[0m\u001B[0m\n\u001B[1;32m     18\u001B[0m \u001B[0mprint\u001B[0m\u001B[0;34m(\u001B[0m\u001B[0;34mf\"ROM queries took {t_end-t_start:.3f} s.\"\u001B[0m\u001B[0;34m)\u001B[0m\u001B[0;34m\u001B[0m\u001B[0;34m\u001B[0m\u001B[0m\n",
      "\u001B[0;32m/var/folders/2f/k9j6f9l54nvddjrct25wv8sh0000gn/T/ipykernel_16393/2692229430.py\u001B[0m in \u001B[0;36mQoI\u001B[0;34m(x)\u001B[0m\n\u001B[1;32m      1\u001B[0m \u001B[0;32mdef\u001B[0m \u001B[0mQoI\u001B[0m\u001B[0;34m(\u001B[0m\u001B[0mx\u001B[0m\u001B[0;34m)\u001B[0m\u001B[0;34m:\u001B[0m\u001B[0;34m\u001B[0m\u001B[0;34m\u001B[0m\u001B[0m\n\u001B[1;32m      2\u001B[0m     \u001B[0mdmd\u001B[0m \u001B[0;34m=\u001B[0m \u001B[0mDMD\u001B[0m\u001B[0;34m(\u001B[0m\u001B[0msvd_rank\u001B[0m\u001B[0;34m=\u001B[0m\u001B[0;36m4\u001B[0m\u001B[0;34m,\u001B[0m \u001B[0mopt\u001B[0m\u001B[0;34m=\u001B[0m\u001B[0;32mTrue\u001B[0m\u001B[0;34m)\u001B[0m\u001B[0;34m\u001B[0m\u001B[0;34m\u001B[0m\u001B[0m\n\u001B[0;32m----> 3\u001B[0;31m     \u001B[0mdmd\u001B[0m\u001B[0;34m.\u001B[0m\u001B[0mfit\u001B[0m\u001B[0;34m(\u001B[0m\u001B[0mx\u001B[0m\u001B[0;34m)\u001B[0m\u001B[0;34m\u001B[0m\u001B[0;34m\u001B[0m\u001B[0m\n\u001B[0m\u001B[1;32m      4\u001B[0m     \u001B[0momegas\u001B[0m \u001B[0;34m=\u001B[0m \u001B[0mnp\u001B[0m\u001B[0;34m.\u001B[0m\u001B[0mlog\u001B[0m\u001B[0;34m(\u001B[0m\u001B[0mdmd\u001B[0m\u001B[0;34m.\u001B[0m\u001B[0meigvals\u001B[0m\u001B[0;34m)\u001B[0m\u001B[0;34m/\u001B[0m\u001B[0mdt\u001B[0m\u001B[0;34m\u001B[0m\u001B[0;34m\u001B[0m\u001B[0m\n\u001B[1;32m      5\u001B[0m     \u001B[0;32mreturn\u001B[0m \u001B[0momegas\u001B[0m\u001B[0;34m[\u001B[0m\u001B[0mnp\u001B[0m\u001B[0;34m.\u001B[0m\u001B[0margmax\u001B[0m\u001B[0;34m(\u001B[0m\u001B[0momegas\u001B[0m\u001B[0;34m.\u001B[0m\u001B[0mreal\u001B[0m\u001B[0;34m)\u001B[0m\u001B[0;34m]\u001B[0m\u001B[0;34m\u001B[0m\u001B[0;34m\u001B[0m\u001B[0m\n",
      "\u001B[0;32m~/Projects/pyROMs/pyROMs/dmd/dmd.py\u001B[0m in \u001B[0;36mfit\u001B[0;34m(self, X, **kwargs)\u001B[0m\n\u001B[1;32m    100\u001B[0m \u001B[0;34m\u001B[0m\u001B[0m\n\u001B[1;32m    101\u001B[0m         \u001B[0;31m# Compute amplitudes\u001B[0m\u001B[0;34m\u001B[0m\u001B[0;34m\u001B[0m\u001B[0;34m\u001B[0m\u001B[0m\n\u001B[0;32m--> 102\u001B[0;31m         \u001B[0mself\u001B[0m\u001B[0;34m.\u001B[0m\u001B[0m_b\u001B[0m \u001B[0;34m=\u001B[0m \u001B[0mself\u001B[0m\u001B[0;34m.\u001B[0m\u001B[0m_compute_amplitudes\u001B[0m\u001B[0;34m(\u001B[0m\u001B[0;34m)\u001B[0m\u001B[0;34m\u001B[0m\u001B[0;34m\u001B[0m\u001B[0m\n\u001B[0m\u001B[1;32m    103\u001B[0m \u001B[0;34m\u001B[0m\u001B[0m\n\u001B[1;32m    104\u001B[0m         \u001B[0;32mreturn\u001B[0m \u001B[0mself\u001B[0m\u001B[0;34m\u001B[0m\u001B[0;34m\u001B[0m\u001B[0m\n",
      "\u001B[0;32m~/Projects/pyROMs/pyROMs/dmd/dmd_base.py\u001B[0m in \u001B[0;36m_compute_amplitudes\u001B[0;34m(self)\u001B[0m\n\u001B[1;32m    413\u001B[0m \u001B[0;34m\u001B[0m\u001B[0m\n\u001B[1;32m    414\u001B[0m             \u001B[0;31m# Perform SVD on all snapshots\u001B[0m\u001B[0;34m\u001B[0m\u001B[0;34m\u001B[0m\u001B[0;34m\u001B[0m\u001B[0m\n\u001B[0;32m--> 415\u001B[0;31m             \u001B[0mU\u001B[0m\u001B[0;34m,\u001B[0m \u001B[0ms\u001B[0m\u001B[0;34m,\u001B[0m \u001B[0mV\u001B[0m \u001B[0;34m=\u001B[0m \u001B[0msvd\u001B[0m\u001B[0;34m(\u001B[0m\u001B[0mself\u001B[0m\u001B[0;34m.\u001B[0m\u001B[0m_snapshots\u001B[0m\u001B[0;34m.\u001B[0m\u001B[0mT\u001B[0m\u001B[0;34m,\u001B[0m \u001B[0;32mFalse\u001B[0m\u001B[0;34m)\u001B[0m\u001B[0;34m\u001B[0m\u001B[0;34m\u001B[0m\u001B[0m\n\u001B[0m\u001B[1;32m    416\u001B[0m \u001B[0;34m\u001B[0m\u001B[0m\n\u001B[1;32m    417\u001B[0m             \u001B[0;31m# Compute LHS, RHS\u001B[0m\u001B[0;34m\u001B[0m\u001B[0;34m\u001B[0m\u001B[0;34m\u001B[0m\u001B[0m\n",
      "\u001B[0;32m<__array_function__ internals>\u001B[0m in \u001B[0;36msvd\u001B[0;34m(*args, **kwargs)\u001B[0m\n",
      "\u001B[0;32m~/Projects/anaconda3/lib/python3.8/site-packages/numpy/linalg/linalg.py\u001B[0m in \u001B[0;36msvd\u001B[0;34m(a, full_matrices, compute_uv, hermitian)\u001B[0m\n\u001B[1;32m   1658\u001B[0m \u001B[0;34m\u001B[0m\u001B[0m\n\u001B[1;32m   1659\u001B[0m         \u001B[0msignature\u001B[0m \u001B[0;34m=\u001B[0m \u001B[0;34m'D->DdD'\u001B[0m \u001B[0;32mif\u001B[0m \u001B[0misComplexType\u001B[0m\u001B[0;34m(\u001B[0m\u001B[0mt\u001B[0m\u001B[0;34m)\u001B[0m \u001B[0;32melse\u001B[0m \u001B[0;34m'd->ddd'\u001B[0m\u001B[0;34m\u001B[0m\u001B[0;34m\u001B[0m\u001B[0m\n\u001B[0;32m-> 1660\u001B[0;31m         \u001B[0mu\u001B[0m\u001B[0;34m,\u001B[0m \u001B[0ms\u001B[0m\u001B[0;34m,\u001B[0m \u001B[0mvh\u001B[0m \u001B[0;34m=\u001B[0m \u001B[0mgufunc\u001B[0m\u001B[0;34m(\u001B[0m\u001B[0ma\u001B[0m\u001B[0;34m,\u001B[0m \u001B[0msignature\u001B[0m\u001B[0;34m=\u001B[0m\u001B[0msignature\u001B[0m\u001B[0;34m,\u001B[0m \u001B[0mextobj\u001B[0m\u001B[0;34m=\u001B[0m\u001B[0mextobj\u001B[0m\u001B[0;34m)\u001B[0m\u001B[0;34m\u001B[0m\u001B[0;34m\u001B[0m\u001B[0m\n\u001B[0m\u001B[1;32m   1661\u001B[0m         \u001B[0mu\u001B[0m \u001B[0;34m=\u001B[0m \u001B[0mu\u001B[0m\u001B[0;34m.\u001B[0m\u001B[0mastype\u001B[0m\u001B[0;34m(\u001B[0m\u001B[0mresult_t\u001B[0m\u001B[0;34m,\u001B[0m \u001B[0mcopy\u001B[0m\u001B[0;34m=\u001B[0m\u001B[0;32mFalse\u001B[0m\u001B[0;34m)\u001B[0m\u001B[0;34m\u001B[0m\u001B[0;34m\u001B[0m\u001B[0m\n\u001B[1;32m   1662\u001B[0m         \u001B[0ms\u001B[0m \u001B[0;34m=\u001B[0m \u001B[0ms\u001B[0m\u001B[0;34m.\u001B[0m\u001B[0mastype\u001B[0m\u001B[0;34m(\u001B[0m\u001B[0m_realType\u001B[0m\u001B[0;34m(\u001B[0m\u001B[0mresult_t\u001B[0m\u001B[0;34m)\u001B[0m\u001B[0;34m,\u001B[0m \u001B[0mcopy\u001B[0m\u001B[0;34m=\u001B[0m\u001B[0;32mFalse\u001B[0m\u001B[0;34m)\u001B[0m\u001B[0;34m\u001B[0m\u001B[0;34m\u001B[0m\u001B[0m\n",
      "\u001B[0;31mKeyboardInterrupt\u001B[0m: "
     ]
    }
   ],
   "source": [
    "rng = np.random.default_rng()\n",
    "bounds = dataset.parameter_bounds\n",
    "samples = np.zeros((n_samples, dataset.n_parameters))\n",
    "for p in range(samples.shape[1]):\n",
    "    samples[:, p] = rng.uniform(*bounds[p], n_samples)\n",
    "\n",
    "qoi = np.zeros((n_samples,))\n",
    "dt = np.diff(dataset.times)[0]\n",
    "\n",
    "# POD predictions\n",
    "print(\"Starting ROM queries...\")\n",
    "t_start = time.time()\n",
    "X_pod = pod.predict(samples)\n",
    "X_pod = dataset.unstack_simulation_vector(X_pod)\n",
    "for i in range(n_samples):\n",
    "    qoi[i] = QoI(X_pod[i])\n",
    "t_end = time.time()\n",
    "print(f\"ROM queries took {t_end-t_start:.3f} s.\")"
   ],
   "metadata": {
    "collapsed": false,
    "pycharm": {
     "name": "#%%\n"
    }
   }
  },
  {
   "cell_type": "code",
   "execution_count": null,
   "outputs": [],
   "source": [
    "import seaborn as sb\n",
    "\n",
    "print(f\"Mean of Time-Eigenvalue:\\t{np.mean(qoi):.3e}.\")\n",
    "print(f\"Std. Dev. of Time-Eigenvalue:\\t{np.std(qoi):.3e}\")\n",
    "\n",
    "fig = plt.figure(figsize=(6, 4))\n",
    "ax = fig.add_subplot(1, 1, 1)\n",
    "xlabel = r\"$\\alpha_{0}$ ($\\mu$s$^{-1}$)\"\n",
    "ylabel = \"Probability\"\n",
    "sb.histplot(qoi, stat='probability', kde=True, ax=ax)\n",
    "ax.set_xlabel(xlabel, fontsize=12)\n",
    "ax.set_ylabel(ylabel, fontsize=12)\n",
    "ax.grid(True)\n",
    "plt.tight_layout()\n",
    "# fig.savefig(\"/Users/zacharyhardy/Documents/phd/dissertation/\"\n",
    "#         \"dissertation/figures/chapter10/sphere/\"\n",
    "#         \"alpha_rom.pdf\")\n"
   ],
   "metadata": {
    "collapsed": false,
    "pycharm": {
     "name": "#%%\n"
    }
   }
  }
 ],
 "metadata": {
  "kernelspec": {
   "display_name": "Python 3",
   "language": "python",
   "name": "python3"
  },
  "language_info": {
   "codemirror_mode": {
    "name": "ipython",
    "version": 2
   },
   "file_extension": ".py",
   "mimetype": "text/x-python",
   "name": "python",
   "nbconvert_exporter": "python",
   "pygments_lexer": "ipython2",
   "version": "2.7.6"
  }
 },
 "nbformat": 4,
 "nbformat_minor": 0
}