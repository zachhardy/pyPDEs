{
 "cells": [
  {
   "cell_type": "code",
   "execution_count": 1,
   "metadata": {
    "collapsed": true,
    "pycharm": {
     "name": "#%%\n"
    }
   },
   "outputs": [],
   "source": [
    "import time\n",
    "import warnings\n",
    "\n",
    "import numpy as np\n",
    "from numpy.linalg import norm\n",
    "\n",
    "import matplotlib.pyplot as plt\n",
    "from matplotlib.pyplot import Figure, Axes\n",
    "\n",
    "from typing import List\n",
    "\n",
    "from pyROMs import POD, DMD, PartitionedDMD\n",
    "from readers import NeutronicsDatasetReader\n",
    "\n",
    "from utils import *\n",
    "\n",
    "warnings.filterwarnings('ignore')"
   ]
  },
  {
   "cell_type": "markdown",
   "source": [
    "Define Routines"
   ],
   "metadata": {
    "collapsed": false
   }
  },
  {
   "cell_type": "code",
   "execution_count": 29,
   "outputs": [],
   "source": [
    "def few_snapshot_validation(pod, X, Y):\n",
    "    \"\"\"\n",
    "    Perform few snapshot validation.\n",
    "\n",
    "    Parameters\n",
    "    ----------\n",
    "    pod : POD\n",
    "    X : The simulation data.\n",
    "    Y : The corresponding parameters.\n",
    "    \"\"\"\n",
    "    try:\n",
    "        for i in range(1, 3):\n",
    "            print(f\"{i} snapshot validation test...\")\n",
    "            x = np.atleast_2d(X[0:i]).reshape(i, -1)\n",
    "            y = np.atleast_2d(Y[0:i]).reshape(i, -1)\n",
    "            pod.fit(x, y)\n",
    "            x_pod = pod.predict(y)\n",
    "            error = norm(x - x_pod) / norm(x)\n",
    "            print(f\"Error:\\t{error:.3e}\\n\")\n",
    "    except BaseException as err:\n",
    "        pass\n",
    "\n",
    "\n",
    "def plot_pod_errors(times, pod_errors,\n",
    "                    title=None, xlabel=None):\n",
    "    \"\"\"\n",
    "    Plot the POD time step errors as a function of time.\n",
    "\n",
    "    Parameters\n",
    "    ----------\n",
    "    times : numpy.ndarray\n",
    "    pod_errors : numpy.ndarray\n",
    "    title : str\n",
    "    xlabel : str\n",
    "    \"\"\"\n",
    "    title = \"Worst Result\" if title is None else title\n",
    "    xlabel = \"Time (s)\" if xlabel is None else xlabel\n",
    "\n",
    "    plt.figure()\n",
    "    plt.tick_params(labelsize=12)\n",
    "    plt.title(title, fontsize=14)\n",
    "    plt.xlabel(xlabel, fontsize=12)\n",
    "    plt.ylabel(\"$L^2$ Error\", fontsize=12)\n",
    "    plt.semilogy(times, pod_errors, '-*b')\n",
    "    plt.grid(True)\n",
    "    plt.tight_layout()\n",
    "\n",
    "\n",
    "def plot_dmd_errors(times, pod_errors, dmd_errors,\n",
    "                    reconstruction_errors,\n",
    "                    title=None, xlabel=None):\n",
    "    \"\"\"\n",
    "    Plot the POD time step errors as a function of time.\n",
    "\n",
    "    Parameters\n",
    "    ----------\n",
    "    times : numpy.ndarray\n",
    "    pod_errors : numpy.ndarray\n",
    "    dmd_errors : numpy.ndarray\n",
    "    reconstruction_errors : numpy.ndarray\n",
    "    title : str\n",
    "    xlabel : str\n",
    "    \"\"\"\n",
    "    xlabel = \"Time (s)\" if xlabel is None else xlabel\n",
    "\n",
    "    plt.figure()\n",
    "    plt.tick_params(labelsize=12)\n",
    "    plt.xlabel(f\"Time {xlabel}\", fontsize=12)\n",
    "    plt.ylabel(\"$L^2$ Error\", fontsize=12)\n",
    "    plt.semilogy(times, pod_errors, '-*b', label=\"POD-MCI\")\n",
    "    plt.semilogy(times, dmd_errors, '-or', ms=2.5, label=\"DMD\")\n",
    "    plt.semilogy(times, reconstruction_errors, '-+k',\n",
    "                 label=\"DMD Reconstruction\")\n",
    "    plt.legend(fontsize=12)\n",
    "    plt.grid(True)\n",
    "    plt.tight_layout()"
   ],
   "metadata": {
    "collapsed": false,
    "pycharm": {
     "name": "#%%\n"
    }
   }
  },
  {
   "cell_type": "markdown",
   "source": [
    "Parse the Data\n"
   ],
   "metadata": {
    "collapsed": false
   }
  },
  {
   "cell_type": "code",
   "execution_count": 30,
   "outputs": [
    {
     "name": "stdout",
     "output_type": "stream",
     "text": [
      "Loading and formating the data...\n",
      "Loading the data took 12.515788 s\n"
     ]
    }
   ],
   "source": [
    "problem_name = input(\"What problem? \")\n",
    "\n",
    "print(\"Loading and formating the data...\")\n",
    "t_start = time.time()\n",
    "dataset = get_data(problem_name)\n",
    "t_end = time.time()\n",
    "print(f\"Loading the data took {t_end - t_start:3f} s\")\n"
   ],
   "metadata": {
    "collapsed": false,
    "pycharm": {
     "name": "#%%\n"
    }
   }
  },
  {
   "cell_type": "markdown",
   "source": [
    "Parameter Definitions and Validation\n"
   ],
   "metadata": {
    "collapsed": false
   }
  },
  {
   "cell_type": "code",
   "execution_count": 35,
   "outputs": [
    {
     "name": "stdout",
     "output_type": "stream",
     "text": [
      "1 snapshot validation test...\n",
      "Error:\t8.347e-17\n",
      "\n",
      "2 snapshot validation test...\n",
      "Error:\t1.696e-15\n",
      "\n"
     ]
    }
   ],
   "source": [
    "interior_only = False\n",
    "test_size = 0.2\n",
    "seed = 12\n",
    "\n",
    "params = get_params(problem_name)\n",
    "vars = params[\"vars\"]\n",
    "tau = params[\"tau\"]\n",
    "interp = params[\"interp\"]\n",
    "epsilon = params[\"epsilon\"]\n",
    "\n",
    "interp = 'rbf_gaussian'\n",
    "\n",
    "X = dataset.create_dataset_matrix(vars)\n",
    "Y = dataset.parameters\n",
    "\n",
    "pod = POD(-1, interp, epsilon)\n",
    "few_snapshot_validation(pod, X, Y)\n"
   ],
   "metadata": {
    "collapsed": false,
    "pycharm": {
     "name": "#%%\n"
    }
   }
  },
  {
   "cell_type": "markdown",
   "source": [
    "Construct the ROM"
   ],
   "metadata": {
    "collapsed": false,
    "pycharm": {
     "name": "#%% md\n"
    }
   }
  },
  {
   "cell_type": "code",
   "execution_count": 36,
   "outputs": [
    {
     "name": "stdout",
     "output_type": "stream",
     "text": [
      "Constructing the ROM...\n",
      "\n",
      "=======================\n",
      "===== POD Summary =====\n",
      "=======================\n",
      "# of Modes          : 19\n",
      "# of Snapshots      : 51\n",
      "Reconstruction Error: 7.752e-05\n",
      "Mean Snapshot Error : 7.929e-05\n",
      "Max Snapshot Error  : 1.687e-04\n",
      "\n",
      "Construction took 3.007e-02 s\n"
     ]
    }
   ],
   "source": [
    "splits = dataset.train_test_split(variables=vars,\n",
    "                                  test_size=test_size, seed=seed,\n",
    "                                  interior_only=interior_only)\n",
    "X_train, X_test, Y_train, Y_test = splits\n",
    "\n",
    "print(f\"Constructing the ROM...\")\n",
    "t_start = time.time()\n",
    "pod = POD(1.0 - tau, interp, epsilon)\n",
    "pod.fit(X_train, Y_train)\n",
    "t_end = time.time()\n",
    "pod.print_summary(skip_line=True)\n",
    "print(f\"\\nConstruction took {t_end - t_start:.3e} s\")"
   ],
   "metadata": {
    "collapsed": false,
    "pycharm": {
     "name": "#%%\n"
    }
   }
  },
  {
   "cell_type": "markdown",
   "source": [
    "Make Preditctions"
   ],
   "metadata": {
    "collapsed": false,
    "pycharm": {
     "name": "#%% md\n"
    }
   }
  },
  {
   "cell_type": "code",
   "execution_count": 37,
   "outputs": [
    {
     "name": "stdout",
     "output_type": "stream",
     "text": [
      "\n",
      "Predicting Results with the ROM...\n",
      "Average prediction time was 8.192e-05 s\n",
      "\n",
      "=====================================\n",
      "===== Summary of 13 POD Queries =====\n",
      "=====================================\n",
      "Number of Snapshots:     \t51\n",
      "Number of POD Modes:     \t19\n",
      "Average POD Error        \t4.752e-03\n",
      "Maximum POD Error:       \t1.067e-02\n",
      "Minimum POD Error:       \t1.374e-03\n"
     ]
    },
    {
     "data": {
      "text/plain": "<Figure size 432x288 with 1 Axes>",
      "image/png": "[encoded data removed]"
     },
     "metadata": {
      "needs_background": "light"
     },
     "output_type": "display_data"
    }
   ],
   "source": [
    "print(f\"\\nPredicting Results with the ROM...\")\n",
    "t_start = time.time()\n",
    "X_pod = pod.predict(Y_test)\n",
    "t_end = time.time()\n",
    "print(f\"Average prediction time was \"\n",
    "      f\"{(t_end-t_start)/len(X_pod):.3e} s\")\n",
    "\n",
    "# Unstack vectors\n",
    "X_test = dataset.unstack_simulation_vector(X_test)\n",
    "X_pod = dataset.unstack_simulation_vector(X_pod)\n",
    "\n",
    "# Compute errors\n",
    "pod_errors = np.zeros(len(X_pod))\n",
    "for i in range(len(X_pod)):\n",
    "    pod_errors[i] = norm(X_pod[i]-X_test[i])/norm(X_test[i])\n",
    "\n",
    "# Compute and plot time step errors\n",
    "start, end = 0, X_pod.shape[1]\n",
    "argmax = np.argmax(pod_errors)\n",
    "x_test, x_pod = X_test[argmax], X_pod[argmax]\n",
    "pod_step_errors = norm(x_test-x_pod, axis=1)/norm(x_test, axis=1)\n",
    "\n",
    "title = f\"Worst Result\\nError = {pod_errors[argmax]:.3e}\"\n",
    "xlabel = \"($\\mu$s)\" if \"sphere\" in problem_name else \"(s)\"\n",
    "plot_pod_errors(dataset.times, pod_step_errors,\n",
    "                title=title, xlabel=f\"Time {xlabel}\")\n",
    "\n",
    "msg = f\"===== Summary of {len(pod_errors)} POD Queries =====\"\n",
    "header = \"=\" * len(msg)\n",
    "print(\"\\n\".join([\"\", header, msg, header]))\n",
    "print(f\"{'Number of Snapshots:':<25}\\t{len(X_train)}\")\n",
    "print(f\"{'Number of POD Modes:':<25}\\t{pod.n_modes}\")\n",
    "print(f\"{'Average POD Error':<25}\\t{np.mean(pod_errors):.3e}\")\n",
    "print(f\"{'Maximum POD Error:':<25}\\t{np.max(pod_errors):.3e}\")\n",
    "print(f\"{'Minimum POD Error:':<25}\\t{np.min(pod_errors):.3e}\")\n",
    "\n",
    "if 'lra' in problem_name:\n",
    "    start, end = 120, 160\n",
    "\n",
    "    # Find peak power arg\n",
    "    peak_argmax = np.argmax(np.sum(x_pod, axis=1))\n",
    "    peak_error = norm(x_test[peak_argmax]-x_pod[peak_argmax])\n",
    "    peak_error /= norm(x_test[peak_argmax])\n",
    "    print(f\"\\nError in Peak Power Profile:\\t{peak_error:3e}\")\n",
    "\n",
    "    # Plot max power density\n",
    "    fig: Figure = plt.figure(figsize=(8, 4))\n",
    "    P_max_test, P_max_pod = np.max(x_test, axis=1), np.max(x_pod, axis=1)\n",
    "\n",
    "    fig.add_subplot(1, 2, 1)\n",
    "    plt.tick_params(labelsize=12)\n",
    "    plt.xlabel(\"Time (s)\", fontsize=12)\n",
    "    plt.ylabel(\"Power (W)\", fontsize=12)\n",
    "    plt.plot(dataset.times[start:end], P_max_test[start:end],\n",
    "             '-*b', ms=3.0, label=\"Simulation\")\n",
    "    plt.plot(dataset.times[start:end], P_max_pod[start:end],\n",
    "            'or', ms=4.0, label=\"POD\")\n",
    "    plt.legend(fontsize=12)\n",
    "    plt.grid(True)\n",
    "\n",
    "    fig.add_subplot(1, 2, 2)\n",
    "    plt.tick_params(labelsize=12)\n",
    "    plt.xlabel(\"Time (s)\", fontsize=12)\n",
    "    plt.semilogy(dataset.times[start:end], P_max_test[start:end],\n",
    "                 '-*b', ms=4.0, label=\"Simulation\")\n",
    "    plt.semilogy(dataset.times[start:end], P_max_pod[start:end],\n",
    "                 'or', ms=3.0, label=\"POD\")\n",
    "    plt.legend(fontsize=12)\n",
    "    plt.grid(True)\n",
    "    plt.tight_layout()"
   ],
   "metadata": {
    "collapsed": false,
    "pycharm": {
     "name": "#%%\n"
    }
   }
  },
  {
   "cell_type": "markdown",
   "source": [
    "Apply DMD to POD Results"
   ],
   "metadata": {
    "collapsed": false,
    "pycharm": {
     "name": "#%% md\n"
    }
   }
  },
  {
   "cell_type": "code",
   "execution_count": 38,
   "outputs": [
    {
     "name": "stdout",
     "output_type": "stream",
     "text": [
      "Computing DMD of POD Predictions...\n",
      "Average DMD construction time: 4.835e-03 s\n",
      "\n",
      "====================================\n",
      "===== Summary of 13 DMD Models =====\n",
      "====================================\n",
      "Number of Snapshots:\t51\n",
      "Number of DMD Modes:\t22\n",
      "Average DMD Error:\t4.761e-03\n",
      "Maximum DMD Error:\t1.062e-02\n",
      "Minimum DMD Error:\t1.375e-03\n"
     ]
    },
    {
     "data": {
      "text/plain": "<Figure size 432x288 with 1 Axes>",
      "image/png": "[encoded data removed]"
     },
     "metadata": {
      "needs_background": "light"
     },
     "output_type": "display_data"
    }
   ],
   "source": [
    "print(f\"Computing DMD of POD Predictions...\")\n",
    "dmd_list = []\n",
    "\n",
    "if \"sphere\" in problem_name:\n",
    "    t_start = time.time()\n",
    "    for i in range(len(X_pod)):\n",
    "        dmd = DMD(svd_rank=tau, opt=True).fit(X_pod[i])\n",
    "        dmd_list.append(dmd)\n",
    "    t_end = time.time()\n",
    "\n",
    "elif \"slab\" in problem_name:\n",
    "    t_start = time.time()\n",
    "    for i in range(len(X_pod)):\n",
    "        dmd = PartitionedDMD(DMD(svd_rank=tau, opt=True), [13, 26])\n",
    "        dmd_list.append(dmd.fit(X_pod[i]))\n",
    "    t_end = time.time()\n",
    "\n",
    "elif \"twigl\" in problem_name:\n",
    "    t_start = time.time()\n",
    "    for i in range(len(X_pod)):\n",
    "        dmd = PartitionedDMD(DMD(svd_rank=tau, opt=True), [11, 21])\n",
    "        dmd_list.append(dmd.fit(X_pod[i]))\n",
    "    t_end = time.time()\n",
    "\n",
    "else:\n",
    "    width = 12\n",
    "    partitions = np.arange(width, 300, width)\n",
    "    t_start = time.time()\n",
    "    for i in range(len(X_pod)):\n",
    "        dmd = PartitionedDMD(DMD(svd_rank=tau, opt=True), partitions)\n",
    "        dmd_list.append(dmd.fit(X_pod[i]))\n",
    "    t_end = time.time()\n",
    "\n",
    "print(f\"Average DMD construction time: {(t_end-t_start)/len(dmd_list):.3e} s\")\n",
    "\n",
    "# Compute errors\n",
    "dmd_errors = np.zeros(len(dmd_list))\n",
    "for i in range(len(dmd_list)):\n",
    "    x_dmd = dmd_list[i].reconstructed_data\n",
    "    dmd_errors[i] = norm(X_test[i]-x_dmd)/norm(x_dmd)\n",
    "\n",
    "# Reconstruct worst POD result\n",
    "x_dmd = dmd_list[argmax].reconstructed_data\n",
    "dmd_step_errors = norm(x_test-x_dmd, axis=1)/norm(x_test, axis=1)\n",
    "reconstruction_errors =  dmd_list[argmax].snapshot_errors\n",
    "\n",
    "plot_dmd_errors(dataset.times, pod_step_errors,\n",
    "                dmd_step_errors, reconstruction_errors,\n",
    "                xlabel=xlabel)\n",
    "\n",
    "# Print DMD results\n",
    "msg = f\"===== Summary of {len(pod_errors)} DMD Models =====\"\n",
    "header = \"=\" * len(msg)\n",
    "print(\"\\n\".join([\"\", header, msg, header]))\n",
    "print(f\"Number of Snapshots:\\t{len(X_pod[0])}\")\n",
    "n_modes = dmd_list[argmax].n_modes\n",
    "if isinstance(n_modes, list):\n",
    "    n_modes = sum(n_modes)\n",
    "print(f\"Number of DMD Modes:\\t{n_modes}\")\n",
    "print(f\"Average DMD Error:\\t{np.mean(dmd_errors):.3e}\")\n",
    "print(f\"Maximum DMD Error:\\t{np.max(dmd_errors):.3e}\")\n",
    "print(f\"Minimum DMD Error:\\t{np.min(dmd_errors):.3e}\")\n",
    "\n",
    "if 'lra' in problem_name:\n",
    "    times, alphas = [], []\n",
    "    dt = np.diff(dataset.times)[0]\n",
    "    dmd: PartitionedDMD = dmd_list[argmax]\n",
    "    for i, sub_dmd in enumerate(dmd_list[argmax]):\n",
    "        t = dmd.partial_time_interval(i)\n",
    "        midpt = t['t0'] + (t['tend']-t['t0'])//2\n",
    "        times.append(dataset.times[midpt])\n",
    "\n",
    "        omegas = np.log(sub_dmd.eigvals).real/dt\n",
    "        idx = np.argsort(sub_dmd.amplitudes.real)[::-1]\n",
    "        alphas.append(omegas[idx[0]])\n",
    "\n",
    "    plt.figure()\n",
    "    plt.tick_params(labelsize=12)\n",
    "    plt.xlabel(\"Time (s)\", fontsize=12)\n",
    "    plt.ylabel(\"Time-Eigenvalue (s$^{-1}$)\", fontsize=12)\n",
    "    plt.plot(times, alphas, '-*b')\n",
    "    plt.grid(True)\n",
    "    plt.tight_layout()"
   ],
   "metadata": {
    "collapsed": false,
    "pycharm": {
     "name": "#%%\n"
    }
   }
  }
 ],
 "metadata": {
  "kernelspec": {
   "display_name": "Python 3",
   "language": "python",
   "name": "python3"
  },
  "language_info": {
   "codemirror_mode": {
    "name": "ipython",
    "version": 2
   },
   "file_extension": ".py",
   "mimetype": "text/x-python",
   "name": "python",
   "nbconvert_exporter": "python",
   "pygments_lexer": "ipython2",
   "version": "2.7.6"
  }
 },
 "nbformat": 4,
 "nbformat_minor": 0
}