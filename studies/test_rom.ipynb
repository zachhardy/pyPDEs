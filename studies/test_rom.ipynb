{
 "cells": [
  {
   "cell_type": "code",
   "execution_count": 9,
   "metadata": {
    "collapsed": true,
    "pycharm": {
     "name": "#%%\n"
    }
   },
   "outputs": [],
   "source": [
    "import copy\n",
    "import sys\n",
    "import time\n",
    "import warnings\n",
    "\n",
    "import numpy as np\n",
    "from numpy.linalg import norm\n",
    "import matplotlib.pyplot as plt\n",
    "from matplotlib.pyplot import Figure, Axes\n",
    "from typing import List\n",
    "\n",
    "warnings.filterwarnings('ignore')"
   ]
  },
  {
   "cell_type": "markdown",
   "source": [
    "Parse the Data\n"
   ],
   "metadata": {
    "collapsed": false
   }
  },
  {
   "cell_type": "code",
   "execution_count": 18,
   "outputs": [
    {
     "name": "stdout",
     "output_type": "stream",
     "text": [
      "Loading and formating the data...\n",
      "Loading the data took 13.405113 s\n"
     ]
    }
   ],
   "source": [
    "from utils import *\n",
    "\n",
    "problem = 'infinite_slab'\n",
    "case = 1\n",
    "study = 6\n",
    "\n",
    "print(\"Loading and formating the data...\")\n",
    "t_start = time.time()\n",
    "if problem == 'infinite_slab':\n",
    "    dataset = get_data(problem, case, study)\n",
    "else:\n",
    "    dataset = get_data(problem, study)\n",
    "t_end = time.time()\n",
    "print(f\"Loading the data took {t_end - t_start:3f} s\")"
   ],
   "metadata": {
    "collapsed": false,
    "pycharm": {
     "name": "#%%\n"
    }
   }
  },
  {
   "cell_type": "markdown",
   "source": [
    "Parameter Definitions"
   ],
   "metadata": {
    "collapsed": false
   }
  },
  {
   "cell_type": "code",
   "execution_count": 19,
   "outputs": [],
   "source": [
    "base = \"/Users/zacharyhardy/Documents/phd/dissertation/dissertation/figures/\"\n",
    "\n",
    "interior_only = False\n",
    "test_size = 0.2\n",
    "seed = 12\n",
    "\n",
    "tau = 1.0e-8 if problem != 'lra' else 1.0e-10\n",
    "if problem == 'three_group_sphere':\n",
    "    interp = 'rbf_gaussian' if study == 0 else 'rbf_cubic'\n",
    "    epsilon = 5.0 if study == 0 else 200.0\n",
    "    base += \"chapter6/\"\n",
    "elif problem == 'infinite_slab':\n",
    "    interp = 'rbf_gaussian'\n",
    "    epsilon = 10.0\n",
    "    base += \"chapter7/\"\n",
    "elif problem == 'twigl':\n",
    "    interp = 'rbf_gaussian'\n",
    "    epsilon = 20.0\n",
    "    base += \"chapter8/\"\n",
    "elif problem == 'lra':\n",
    "    interp = 'rbf_gaussian'\n",
    "    epsilon = 200.0\n",
    "    base += \"chapter9/\"\n",
    "\n",
    "var = None\n",
    "if problem != 'three_group_sphere':\n",
    "    var = 'power_density'\n",
    "\n",
    "X = dataset.create_dataset_matrix(var)\n",
    "Y = dataset.parameters"
   ],
   "metadata": {
    "collapsed": false,
    "pycharm": {
     "name": "#%%\n"
    }
   }
  },
  {
   "cell_type": "markdown",
   "source": [
    "One and Two Snapshot Validation"
   ],
   "metadata": {
    "collapsed": false
   }
  },
  {
   "cell_type": "code",
   "execution_count": 20,
   "outputs": [
    {
     "name": "stdout",
     "output_type": "stream",
     "text": [
      "1 snapshot validation test...\n",
      "Error:\t1.073e-16\n",
      "\n",
      "2 snapshot validation test...\n",
      "Error:\t3.448e-16\n",
      "\n"
     ]
    }
   ],
   "source": [
    "from pyROMs import POD\n",
    "\n",
    "try:\n",
    "    for i in range(1, 3):\n",
    "        print(f\"{i} snapshot validation test...\")\n",
    "        x = np.atleast_2d(X[0:i]).reshape(i, -1)\n",
    "        y = np.atleast_2d(Y[0:i]).reshape(i, -1)\n",
    "        pod = POD(svd_rank=-1)\n",
    "        pod.fit(x, y, interp, epsilon=epsilon)\n",
    "        x_pod = pod.predict(y)\n",
    "        one_error = norm(x-x_pod)/norm(x)\n",
    "        print(f\"Error:\\t{one_error:.3e}\\n\")\n",
    "except BaseException as err:\n",
    "    print(err.args[0])\n"
   ],
   "metadata": {
    "collapsed": false,
    "pycharm": {
     "name": "#%%\n"
    }
   }
  },
  {
   "cell_type": "markdown",
   "source": [
    "Construct the ROM"
   ],
   "metadata": {
    "collapsed": false,
    "pycharm": {
     "name": "#%% md\n"
    }
   }
  },
  {
   "cell_type": "code",
   "execution_count": 21,
   "outputs": [
    {
     "name": "stdout",
     "output_type": "stream",
     "text": [
      "Constructing the ROM...\n",
      "Construction took 5.276e-02 s\n",
      "=======================\n",
      "===== POD Summary =====\n",
      "=======================\n",
      "# of Modes          : 10\n",
      "# of Snapshots      : 100\n",
      "Reconstruction Error: 6.489e-05\n",
      "Mean Snapshot Error : 6.872e-05\n",
      "Max Snapshot Error  : 1.894e-04\n",
      "/Users/zacharyhardy/Documents/phd/dissertation/dissertation/figures/chapter7/\n",
      "\n",
      "Predicting Results with the ROM...\n",
      "Average prediction time was 1.675e-04 s\n",
      "\n",
      "=====================================\n",
      "===== Summary of 25 POD Queries =====\n",
      "=====================================\n",
      "Number of Snapshots:\t100\n",
      "Number of POD Modes:\t10\n",
      "Average POD Error:\t7.491e-05\n",
      "Maximum POD Error:\t1.611e-04\n",
      "Minimum POD Error:\t1.843e-05\n"
     ]
    },
    {
     "data": {
      "text/plain": "<Figure size 432x288 with 1 Axes>",
      "image/png": "[encoded data removed]"
     },
     "metadata": {
      "needs_background": "light"
     },
     "output_type": "display_data"
    },
    {
     "data": {
      "text/plain": "<Figure size 432x288 with 1 Axes>",
      "image/png": "[encoded data removed]"
     },
     "metadata": {
      "needs_background": "light"
     },
     "output_type": "display_data"
    }
   ],
   "source": [
    "splits = dataset.train_test_split(variables=var,\n",
    "                                  test_size=test_size, seed=seed,\n",
    "                                  interior_only=interior_only)\n",
    "X_train, X_test, Y_train, Y_test = splits\n",
    "\n",
    "print(f\"Constructing the ROM...\")\n",
    "t_start = time.time()\n",
    "pod = POD(svd_rank=1.0-tau)\n",
    "pod.fit(X_train, Y_train, interp, epsilon=epsilon)\n",
    "t_end = time.time()\n",
    "print(f\"Construction took {t_end - t_start:.3e} s\")\n",
    "pod.print_summary()\n",
    "pod.plot_singular_values()\n",
    "print(base)\n",
    "plt.savefig(base + \"scree.pdf\")\n",
    "\n",
    "print(f\"\\nPredicting Results with the ROM...\")\n",
    "t_start = time.time()\n",
    "X_pod = pod.predict(Y_test)\n",
    "t_end = time.time()\n",
    "X_pod = dataset.unstack_simulation_vector(X_pod)\n",
    "print(f\"Average prediction time was {(t_end-t_start)/len(X_pod):.3e} s\")\n",
    "\n",
    "X_test = dataset.unstack_simulation_vector(X_test)\n",
    "pod_errors = np.zeros(len(X_pod))\n",
    "for i in range(len(X_pod)):\n",
    "    pod_errors[i] = norm(X_pod[i]-X_test[i])/norm(X_test[i])\n",
    "\n",
    "argmax = np.argmax(pod_errors)\n",
    "x_test, x_pod = X_test[argmax], X_pod[argmax]\n",
    "pod_step_errors = norm(x_test-x_pod, axis=1)/norm(x_test, axis=1)\n",
    "\n",
    "start, end = 0, len(x_pod)\n",
    "\n",
    "plt.figure()\n",
    "plt.title(f\"Worst Result\\nError = {pod_errors[argmax]:.3e}\")\n",
    "plt.xlabel(\"Time (s)\", fontsize=12)\n",
    "plt.ylabel(\"Relative $L^2$ Error\", fontsize=12)\n",
    "plt.semilogy(dataset.times[start:end], pod_step_errors[start:end], '-*b')\n",
    "plt.grid(True)\n",
    "plt.tight_layout()\n",
    "# plt.savefig(base + \"step_errors.pdf\")\n",
    "\n",
    "msg = f\"===== Summary of {len(pod_errors)} POD Queries =====\"\n",
    "header = \"=\" * len(msg)\n",
    "print(\"\\n\".join([\"\", header, msg, header]))\n",
    "print(f\"Number of Snapshots:\\t{len(X_train)}\")\n",
    "print(f\"Number of POD Modes:\\t{pod.n_modes}\")\n",
    "print(f\"Average POD Error:\\t{np.mean(pod_errors):.3e}\")\n",
    "print(f\"Maximum POD Error:\\t{np.max(pod_errors):.3e}\")\n",
    "print(f\"Minimum POD Error:\\t{np.min(pod_errors):.3e}\")\n",
    "\n",
    "if problem == 'lra':\n",
    "    start, end = 120, 160\n",
    "\n",
    "    # Find peak power arg\n",
    "    peak_argmax = np.argmax(np.sum(x_pod, axis=1))\n",
    "    peak_error = norm(x_test[peak_argmax]-x_pod[peak_argmax])\n",
    "    peak_error /= norm(x_test[peak_argmax])\n",
    "    print(f\"\\nError in Peak Power Profile:\\t{peak_error:3e}\")\n",
    "\n",
    "    # Plot max power density\n",
    "    plt.figure()\n",
    "    P_max_test, P_max_pod = np.max(x_test, axis=1), np.max(x_pod, axis=1)\n",
    "    plotter = plt.plot\n",
    "    plt.xlabel(\"Time (s)\", fontsize=12)\n",
    "    plt.ylabel(\"Power (W)\", fontsize=12)\n",
    "    plotter(dataset.times[start:end], P_max_test[start:end],\n",
    "                 '-*b', label=\"Simulation\")\n",
    "    plotter(dataset.times[start:end], P_max_pod[start:end],\n",
    "            'or', ms=2.5, label=\"POD\")\n",
    "    plt.legend()\n",
    "    plt.grid(True)\n",
    "    plt.tight_layout()\n",
    "    plt.savefig(base + \"pod_vs_simulation.pdf\")\n",
    "\n",
    "    # Plot mean power density\n",
    "    plt.figure()\n",
    "    P_mean_test, P_mean_pod = np.mean(x_test, axis=1), np.mean(x_pod, axis=1)\n",
    "    plotter = plt.semilogy\n",
    "    plt.xlabel(\"Time (s)\", fontsize=12)\n",
    "    plt.ylabel(\"Power (W)\", fontsize=12)\n",
    "    plotter(dataset.times[start:end], P_mean_test[start:end],\n",
    "                 '-*b', label=\"Simulation\")\n",
    "    plotter(dataset.times[start:end], P_mean_pod[start:end],\n",
    "            'or', ms=2.5, label=\"POD\")\n",
    "    plt.legend()\n",
    "    plt.grid(True)\n",
    "    plt.tight_layout()\n",
    "\n",
    "    # Plot max power error\n",
    "    plt.figure()\n",
    "    error = np.abs(P_max_pod - P_max_test) / P_max_test\n",
    "    plt.semilogy(dataset.times[start:end], error[start:end], '-*b')\n",
    "    plt.grid(True)\n",
    "    plt.tight_layout()\n",
    "\n",
    "    # Plot mean power error\n",
    "    plt.figure()\n",
    "    error = np.abs(P_mean_test - P_mean_pod) / P_mean_test\n",
    "    plt.semilogy(dataset.times[start:end], error[start:end], '-*b')\n",
    "    plt.grid(True)\n",
    "    plt.tight_layout()"
   ],
   "metadata": {
    "collapsed": false,
    "pycharm": {
     "name": "#%%\n"
    }
   }
  },
  {
   "cell_type": "markdown",
   "source": [
    "Apply DMD to POD Results"
   ],
   "metadata": {
    "collapsed": false,
    "pycharm": {
     "name": "#%% md\n"
    }
   }
  },
  {
   "cell_type": "code",
   "execution_count": 22,
   "outputs": [
    {
     "name": "stdout",
     "output_type": "stream",
     "text": [
      "Computing DMD of POD Predictions...\n",
      "Average DMD construction time: 6.597e-03 s\n",
      "\n",
      "====================================\n",
      "===== Summary of 25 DMD Models =====\n",
      "====================================\n",
      "Number of Snapshots:\t51\n",
      "Number of DMD Modes:\t16\n",
      "Average DMD Error:\t1.586e-04\n",
      "Maximum DMD Error:\t1.163e-03\n",
      "Minimum DMD Error:\t4.325e-05\n"
     ]
    },
    {
     "data": {
      "text/plain": "<Figure size 432x288 with 1 Axes>",
      "image/png": "[encoded data removed]"
     },
     "metadata": {
      "needs_background": "light"
     },
     "output_type": "display_data"
    },
    {
     "data": {
      "text/plain": "<Figure size 432x288 with 1 Axes>",
      "image/png": "[encoded data removed]"
     },
     "metadata": {
      "needs_background": "light"
     },
     "output_type": "display_data"
    }
   ],
   "source": [
    "print(f\"Computing DMD of POD Predictions...\")\n",
    "dmd_list = []\n",
    "\n",
    "if problem == 'three_group_sphere':\n",
    "    from pyROMs import DMD\n",
    "\n",
    "    t_start = time.time()\n",
    "    for i in range(len(X_pod)):\n",
    "        dmd = DMD(svd_rank=tau, opt=True).fit(X_pod[i])\n",
    "        dmd_list.append(dmd)\n",
    "    t_end = time.time()\n",
    "\n",
    "elif problem == 'infinite_slab':\n",
    "    from pyROMs import DMD, PartitionedDMD\n",
    "\n",
    "    t_start = time.time()\n",
    "    for i in range(len(X_pod)):\n",
    "        dmd = PartitionedDMD(DMD(svd_rank=tau, opt=True), [13, 26])\n",
    "        dmd_list.append(dmd.fit(X_pod[i]))\n",
    "    t_end = time.time()\n",
    "\n",
    "elif problem == 'twigl':\n",
    "    from pyROMs import DMD, PartitionedDMD\n",
    "\n",
    "    t_start = time.time()\n",
    "    for i in range(len(X_pod)):\n",
    "        dmd = PartitionedDMD(DMD(svd_rank=tau, opt=True), [11, 21])\n",
    "        dmd_list.append(dmd.fit(X_pod[i]))\n",
    "    t_end = time.time()\n",
    "\n",
    "else:\n",
    "    from pyROMs import DMD, PartitionedDMD\n",
    "\n",
    "    width = 12\n",
    "    partitions = np.arange(width, 300, width)\n",
    "    t_start = time.time()\n",
    "    for i in range(len(X_pod)):\n",
    "        dmd = PartitionedDMD(DMD(svd_rank=tau, opt=True), partitions)\n",
    "        dmd_list.append(dmd.fit(X_pod[i]))\n",
    "    t_end = time.time()\n",
    "print(f\"Average DMD construction time: {(t_end-t_start)/len(dmd_list):.3e} s\")\n",
    "\n",
    "# Compute errors\n",
    "dmd_errors = np.zeros(len(dmd_list))\n",
    "for i in range(len(dmd_list)):\n",
    "    x_dmd = dmd_list[i].reconstructed_data\n",
    "    dmd_errors[i] = norm(X_test[i]-x_dmd)/norm(x_dmd)\n",
    "\n",
    "# Reconstruct worst POD result\n",
    "x_dmd = dmd_list[argmax].reconstructed_data\n",
    "dmd_step_errors = norm(x_test-x_dmd, axis=1)/norm(x_test, axis=1)\n",
    "reconstruction_errors =  dmd_list[argmax].snapshot_errors\n",
    "\n",
    "times, alphas = [], []\n",
    "dt = np.diff(dataset.times)[0]\n",
    "dmd: PartitionedDMD = dmd_list[argmax]\n",
    "for i, sub_dmd in enumerate(dmd_list[argmax]):\n",
    "    t = dmd.partial_time_interval(i)\n",
    "    midpt = t['t0'] + (t['tend']-t['t0'])//2\n",
    "    times.append(dataset.times[midpt])\n",
    "\n",
    "    omegas = np.log(sub_dmd.eigvals).real/dt\n",
    "    idx = np.argsort(sub_dmd.amplitudes.real)[::-1]\n",
    "    alphas.append(omegas[idx[0]])\n",
    "\n",
    "plt.figure()\n",
    "plt.xlabel(f\"Time (s)\", fontsize=12)\n",
    "plt.ylabel(\"Time-Eigenvalue (s$^{-1}$)\", fontsize=12)\n",
    "plt.plot(times, alphas, '-*b')\n",
    "plt.grid(True)\n",
    "plt.tight_layout()\n",
    "plt.savefig(base + \"alpha_profile.pdf\")\n",
    "\n",
    "plt.figure()\n",
    "xlabel = \"Time ($\\mu$s)\" if problem == 'three_group_sphere' else \"Time (s)\"\n",
    "plt.xlabel(xlabel, fontsize=12)\n",
    "plt.ylabel(\"Relative $L^2$ Error\", fontsize=12)\n",
    "plt.semilogy(dataset.times, pod_step_errors, '-b*', label=\"POD\")\n",
    "plt.semilogy(dataset.times, dmd_step_errors, '-ro', ms=2.5, label=\"DMD\")\n",
    "plt.semilogy(dataset.times, reconstruction_errors, '-+k',\n",
    "             label=\"DMD Reconstruction\")\n",
    "plt.legend()\n",
    "plt.grid(True)\n",
    "plt.tight_layout()\n",
    "# plt.savefig(base + \"pod_dmd_results.pdf\")\n",
    "\n",
    "# Print DMD results\n",
    "msg = f\"===== Summary of {len(pod_errors)} DMD Models =====\"\n",
    "header = \"=\" * len(msg)\n",
    "print(\"\\n\".join([\"\", header, msg, header]))\n",
    "print(f\"Number of Snapshots:\\t{len(X_pod[0])}\")\n",
    "n_modes = dmd_list[argmax].n_modes\n",
    "if isinstance(n_modes, list):\n",
    "    n_modes = sum(n_modes)\n",
    "print(f\"Number of DMD Modes:\\t{n_modes}\")\n",
    "print(f\"Average DMD Error:\\t{np.mean(dmd_errors):.3e}\")\n",
    "print(f\"Maximum DMD Error:\\t{np.max(dmd_errors):.3e}\")\n",
    "print(f\"Minimum DMD Error:\\t{np.min(dmd_errors):.3e}\")\n"
   ],
   "metadata": {
    "collapsed": false,
    "pycharm": {
     "name": "#%%\n"
    }
   }
  }
 ],
 "metadata": {
  "kernelspec": {
   "display_name": "Python 3",
   "language": "python",
   "name": "python3"
  },
  "language_info": {
   "codemirror_mode": {
    "name": "ipython",
    "version": 2
   },
   "file_extension": ".py",
   "mimetype": "text/x-python",
   "name": "python",
   "nbconvert_exporter": "python",
   "pygments_lexer": "ipython2",
   "version": "2.7.6"
  }
 },
 "nbformat": 4,
 "nbformat_minor": 0
}